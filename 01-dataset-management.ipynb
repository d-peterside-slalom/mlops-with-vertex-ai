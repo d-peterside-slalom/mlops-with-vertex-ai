{
 "cells": [
  {
   "cell_type": "markdown",
   "id": "e8ba7f4f",
   "metadata": {},
   "source": [
    "# 01 - Data Analysis and Preparation\n",
    "\n",
    "This notebook covers the following tasks:\n",
    "\n",
    "1. Perform exploratory data analysis and visualization.\n",
    "2. Prepare the data for the ML task in BigQuery.\n",
    "3. Generate and fix a ` TFDV schema` for the source data.\n",
    "4. Create a `Vertex Dataset resource` dataset.\n"
   ]
  },
  {
   "cell_type": "markdown",
   "id": "b481a247",
   "metadata": {},
   "source": [
    "## Dataset\n",
    "\n",
    "The [Chicago Taxi Trips](https://pantheon.corp.google.com/marketplace/details/city-of-chicago-public-data/chicago-taxi-trips) dataset is one of [public datasets hosted with BigQuery](https://cloud.google.com/bigquery/public-data/), which includes taxi trips from 2013 to the present, reported to the City of Chicago in its role as a regulatory agency. The `taxi_trips` table size is 70.72 GB and includes more than 195 million records. The dataset includes information about the trips, like pickup and dropoff datetime and location, passengers count, miles travelled, and trip toll. \n",
    "\n",
    "The ML task is to predict whether a given trip will result in a tip > 20%."
   ]
  },
  {
   "cell_type": "markdown",
   "id": "4fedd0ac",
   "metadata": {},
   "source": [
    "## Setup"
   ]
  },
  {
   "cell_type": "markdown",
   "id": "b25967c9",
   "metadata": {},
   "source": [
    "### Import libraries"
   ]
  },
  {
   "cell_type": "code",
   "execution_count": 1,
   "id": "fa2cf3f1",
   "metadata": {},
   "outputs": [],
   "source": [
    "import os\n",
    "import pandas as pd\n",
    "import tensorflow as tf\n",
    "import tensorflow_data_validation as tfdv\n",
    "from google.cloud import bigquery\n",
    "import matplotlib.pyplot as plt\n",
    "\n",
    "from google.cloud import aiplatform as vertex_ai"
   ]
  },
  {
   "cell_type": "markdown",
   "id": "9bd0ee37",
   "metadata": {},
   "source": [
    "### Setup Google Cloud project"
   ]
  },
  {
   "cell_type": "code",
   "execution_count": 2,
   "id": "c7e4712e",
   "metadata": {},
   "outputs": [
    {
     "name": "stdout",
     "output_type": "stream",
     "text": [
      "Project ID: g360-docai\n",
      "Region: us-west1\n"
     ]
    }
   ],
   "source": [
    "PROJECT = 'g360-docai' # Change to your project id.\n",
    "REGION = 'us-west1' # Change to your region.\n",
    "\n",
    "if PROJECT == \"\" or PROJECT is None or PROJECT == \"[your-project-id]\":\n",
    "    # Get your GCP project id from gcloud\n",
    "    shell_output = !gcloud config list --format 'value(core.project)' 2>/dev/null\n",
    "    PROJECT = shell_output[0]\n",
    "    \n",
    "print(\"Project ID:\", PROJECT)\n",
    "print(\"Region:\", REGION)"
   ]
  },
  {
   "cell_type": "markdown",
   "id": "384a817b",
   "metadata": {},
   "source": [
    "### Set configurations"
   ]
  },
  {
   "cell_type": "code",
   "execution_count": 3,
   "id": "b71d0738",
   "metadata": {},
   "outputs": [],
   "source": [
    "BQ_DATASET_NAME = 'playground_us' # Change to your BQ dataset name.\n",
    "BQ_TABLE_NAME = 'chicago_taxitrips_prep'\n",
    "BQ_LOCATION = 'US'\n",
    "\n",
    "DATASET_DISPLAY_NAME = 'chicago-taxi-tips'\n",
    "\n",
    "RAW_SCHEMA_DIR = 'src/raw_schema'"
   ]
  },
  {
   "cell_type": "markdown",
   "id": "39395512",
   "metadata": {},
   "source": [
    "## 1. Explore the data in BigQuery"
   ]
  },
  {
   "cell_type": "code",
   "execution_count": 4,
   "id": "9e4300d3",
   "metadata": {},
   "outputs": [
    {
     "name": "stderr",
     "output_type": "stream",
     "text": [
      "Query complete after 0.00s: 100%|██████████| 1/1 [00:00<00:00, 1067.25query/s]\n",
      "Downloading: 100%|██████████| 7/7 [00:01<00:00,  5.88rows/s]\n"
     ]
    }
   ],
   "source": [
    "%%bigquery data\n",
    "\n",
    "SELECT \n",
    "    CAST(EXTRACT(DAYOFWEEK FROM trip_start_timestamp) AS string) AS trip_dayofweek, \n",
    "    FORMAT_DATE('%A',cast(trip_start_timestamp as date)) AS trip_dayname,\n",
    "    COUNT(*) as trip_count,\n",
    "FROM `bigquery-public-data.chicago_taxi_trips.taxi_trips`\n",
    "WHERE\n",
    "    EXTRACT(YEAR FROM trip_start_timestamp) = 2015 \n",
    "GROUP BY\n",
    "    trip_dayofweek,\n",
    "    trip_dayname\n",
    "ORDER BY\n",
    "    trip_dayofweek\n",
    ";"
   ]
  },
  {
   "cell_type": "code",
   "execution_count": 5,
   "id": "699804c5",
   "metadata": {},
   "outputs": [
    {
     "data": {
      "text/html": [
       "<div>\n",
       "<style scoped>\n",
       "    .dataframe tbody tr th:only-of-type {\n",
       "        vertical-align: middle;\n",
       "    }\n",
       "\n",
       "    .dataframe tbody tr th {\n",
       "        vertical-align: top;\n",
       "    }\n",
       "\n",
       "    .dataframe thead th {\n",
       "        text-align: right;\n",
       "    }\n",
       "</style>\n",
       "<table border=\"1\" class=\"dataframe\">\n",
       "  <thead>\n",
       "    <tr style=\"text-align: right;\">\n",
       "      <th></th>\n",
       "      <th>trip_dayofweek</th>\n",
       "      <th>trip_dayname</th>\n",
       "      <th>trip_count</th>\n",
       "    </tr>\n",
       "  </thead>\n",
       "  <tbody>\n",
       "    <tr>\n",
       "      <th>0</th>\n",
       "      <td>1</td>\n",
       "      <td>Sunday</td>\n",
       "      <td>4141130</td>\n",
       "    </tr>\n",
       "    <tr>\n",
       "      <th>1</th>\n",
       "      <td>2</td>\n",
       "      <td>Monday</td>\n",
       "      <td>4105815</td>\n",
       "    </tr>\n",
       "    <tr>\n",
       "      <th>2</th>\n",
       "      <td>3</td>\n",
       "      <td>Tuesday</td>\n",
       "      <td>4378750</td>\n",
       "    </tr>\n",
       "    <tr>\n",
       "      <th>3</th>\n",
       "      <td>4</td>\n",
       "      <td>Wednesday</td>\n",
       "      <td>4542711</td>\n",
       "    </tr>\n",
       "    <tr>\n",
       "      <th>4</th>\n",
       "      <td>5</td>\n",
       "      <td>Thursday</td>\n",
       "      <td>4918158</td>\n",
       "    </tr>\n",
       "    <tr>\n",
       "      <th>5</th>\n",
       "      <td>6</td>\n",
       "      <td>Friday</td>\n",
       "      <td>5289798</td>\n",
       "    </tr>\n",
       "    <tr>\n",
       "      <th>6</th>\n",
       "      <td>7</td>\n",
       "      <td>Saturday</td>\n",
       "      <td>5009165</td>\n",
       "    </tr>\n",
       "  </tbody>\n",
       "</table>\n",
       "</div>"
      ],
      "text/plain": [
       "  trip_dayofweek trip_dayname  trip_count\n",
       "0              1       Sunday     4141130\n",
       "1              2       Monday     4105815\n",
       "2              3      Tuesday     4378750\n",
       "3              4    Wednesday     4542711\n",
       "4              5     Thursday     4918158\n",
       "5              6       Friday     5289798\n",
       "6              7     Saturday     5009165"
      ]
     },
     "execution_count": 5,
     "metadata": {},
     "output_type": "execute_result"
    }
   ],
   "source": [
    "data"
   ]
  },
  {
   "cell_type": "code",
   "execution_count": 6,
   "id": "a7f2447e",
   "metadata": {},
   "outputs": [
    {
     "data": {
      "text/plain": [
       "<AxesSubplot:xlabel='trip_dayname'>"
      ]
     },
     "execution_count": 6,
     "metadata": {},
     "output_type": "execute_result"
    },
    {
     "data": {
      "image/png": "[encoded data removed]",
      "text/plain": [
       "<Figure size 640x480 with 1 Axes>"
      ]
     },
     "metadata": {},
     "output_type": "display_data"
    }
   ],
   "source": [
    "data.plot(kind='bar', x='trip_dayname', y='trip_count')"
   ]
  },
  {
   "cell_type": "markdown",
   "id": "a7782c69",
   "metadata": {},
   "source": [
    "## 2. Create data for the ML task\n",
    "\n",
    "We add a `ML_use` column for pre-splitting the data, where 80% of the datsa items are set to `UNASSIGNED` while the other 20% is set to `TEST`.\n",
    "\n",
    "This column is used during training to split the dataset for training and test.\n",
    "\n",
    "In the training phase, the `UNASSIGNED` are split into `train` and `eval`. The `TEST` split is will be used for the final model validation."
   ]
  },
  {
   "cell_type": "markdown",
   "id": "7987d132",
   "metadata": {},
   "source": [
    "### Create destination BigQuery dataset"
   ]
  },
  {
   "cell_type": "code",
   "execution_count": 7,
   "id": "56a7f6d6",
   "metadata": {},
   "outputs": [
    {
     "name": "stdout",
     "output_type": "stream",
     "text": [
      "W0518 00:00:59.190495 140018484709184 bigquery_client.py:731] There is no apilog flag so non-critical logging is disabled.\n",
      "BigQuery error in mk operation: Dataset 'g360-docai:playground_us' already\n",
      "exists.\n"
     ]
    }
   ],
   "source": [
    "!bq --location=$BQ_LOCATION mk -d \\\n",
    "$PROJECT:$BQ_DATASET_NAME"
   ]
  },
  {
   "cell_type": "code",
   "execution_count": 8,
   "id": "832f99ba",
   "metadata": {},
   "outputs": [],
   "source": [
    "sample_size = 1000000\n",
    "year = 2020"
   ]
  },
  {
   "cell_type": "code",
   "execution_count": 9,
   "id": "1b19789f",
   "metadata": {},
   "outputs": [],
   "source": [
    "sql_script = '''\n",
    "CREATE OR REPLACE TABLE `@PROJECT.@DATASET.@TABLE` \n",
    "AS (\n",
    "    WITH\n",
    "      taxitrips AS (\n",
    "      SELECT\n",
    "        trip_start_timestamp,\n",
    "        trip_seconds,\n",
    "        trip_miles,\n",
    "        payment_type,\n",
    "        pickup_longitude,\n",
    "        pickup_latitude,\n",
    "        dropoff_longitude,\n",
    "        dropoff_latitude,\n",
    "        tips,\n",
    "        fare\n",
    "      FROM\n",
    "        `bigquery-public-data.chicago_taxi_trips.taxi_trips`\n",
    "      WHERE 1=1 \n",
    "      AND pickup_longitude IS NOT NULL\n",
    "      AND pickup_latitude IS NOT NULL\n",
    "      AND dropoff_longitude IS NOT NULL\n",
    "      AND dropoff_latitude IS NOT NULL\n",
    "      AND trip_miles > 0\n",
    "      AND trip_seconds > 0\n",
    "      AND fare > 0\n",
    "      AND EXTRACT(YEAR FROM trip_start_timestamp) = @YEAR\n",
    "    )\n",
    "\n",
    "    SELECT\n",
    "      trip_start_timestamp,\n",
    "      EXTRACT(MONTH from trip_start_timestamp) as trip_month,\n",
    "      EXTRACT(DAY from trip_start_timestamp) as trip_day,\n",
    "      EXTRACT(DAYOFWEEK from trip_start_timestamp) as trip_day_of_week,\n",
    "      EXTRACT(HOUR from trip_start_timestamp) as trip_hour,\n",
    "      trip_seconds,\n",
    "      trip_miles,\n",
    "      payment_type,\n",
    "      ST_AsText(\n",
    "          ST_SnapToGrid(ST_GeogPoint(pickup_longitude, pickup_latitude), 0.1)\n",
    "      ) AS pickup_grid,\n",
    "      ST_AsText(\n",
    "          ST_SnapToGrid(ST_GeogPoint(dropoff_longitude, dropoff_latitude), 0.1)\n",
    "      ) AS dropoff_grid,\n",
    "      ST_Distance(\n",
    "          ST_GeogPoint(pickup_longitude, pickup_latitude), \n",
    "          ST_GeogPoint(dropoff_longitude, dropoff_latitude)\n",
    "      ) AS euclidean,\n",
    "      CONCAT(\n",
    "          ST_AsText(ST_SnapToGrid(ST_GeogPoint(pickup_longitude,\n",
    "              pickup_latitude), 0.1)), \n",
    "          ST_AsText(ST_SnapToGrid(ST_GeogPoint(dropoff_longitude,\n",
    "              dropoff_latitude), 0.1))\n",
    "      ) AS loc_cross,\n",
    "      IF((tips/fare >= 0.2), 1, 0) AS tip_bin,\n",
    "      IF(RAND() <= 0.8, 'UNASSIGNED', 'TEST') AS ML_use\n",
    "    FROM\n",
    "      taxitrips\n",
    "    LIMIT @LIMIT\n",
    ")\n",
    "'''"
   ]
  },
  {
   "cell_type": "code",
   "execution_count": 10,
   "id": "6f1d2837",
   "metadata": {},
   "outputs": [],
   "source": [
    "sql_script = sql_script.replace(\n",
    "    '@PROJECT', PROJECT).replace(\n",
    "    '@DATASET', BQ_DATASET_NAME).replace(\n",
    "    '@TABLE', BQ_TABLE_NAME).replace(\n",
    "    '@YEAR', str(year)).replace(\n",
    "    '@LIMIT', str(sample_size))"
   ]
  },
  {
   "cell_type": "code",
   "execution_count": 11,
   "id": "27acb6b5",
   "metadata": {},
   "outputs": [
    {
     "name": "stdout",
     "output_type": "stream",
     "text": [
      "\n",
      "CREATE OR REPLACE TABLE `g360-docai.playground_us.chicago_taxitrips_prep` \n",
      "AS (\n",
      "    WITH\n",
      "      taxitrips AS (\n",
      "      SELECT\n",
      "        trip_start_timestamp,\n",
      "        trip_seconds,\n",
      "        trip_miles,\n",
      "        payment_type,\n",
      "        pickup_longitude,\n",
      "        pickup_latitude,\n",
      "        dropoff_longitude,\n",
      "        dropoff_latitude,\n",
      "        tips,\n",
      "        fare\n",
      "      FROM\n",
      "        `bigquery-public-data.chicago_taxi_trips.taxi_trips`\n",
      "      WHERE 1=1 \n",
      "      AND pickup_longitude IS NOT NULL\n",
      "      AND pickup_latitude IS NOT NULL\n",
      "      AND dropoff_longitude IS NOT NULL\n",
      "      AND dropoff_latitude IS NOT NULL\n",
      "      AND trip_miles > 0\n",
      "      AND trip_seconds > 0\n",
      "      AND fare > 0\n",
      "      AND EXTRACT(YEAR FROM trip_start_timestamp) = 2020\n",
      "    )\n",
      "\n",
      "    SELECT\n",
      "      trip_start_timestamp,\n",
      "      EXTRACT(MONTH from trip_start_timestamp) as trip_month,\n",
      "      EXTRACT(DAY from trip_start_timestamp) as trip_day,\n",
      "      EXTRACT(DAYOFWEEK from trip_start_timestamp) as trip_day_of_week,\n",
      "      EXTRACT(HOUR from trip_start_timestamp) as trip_hour,\n",
      "      trip_seconds,\n",
      "      trip_miles,\n",
      "      payment_type,\n",
      "      ST_AsText(\n",
      "          ST_SnapToGrid(ST_GeogPoint(pickup_longitude, pickup_latitude), 0.1)\n",
      "      ) AS pickup_grid,\n",
      "      ST_AsText(\n",
      "          ST_SnapToGrid(ST_GeogPoint(dropoff_longitude, dropoff_latitude), 0.1)\n",
      "      ) AS dropoff_grid,\n",
      "      ST_Distance(\n",
      "          ST_GeogPoint(pickup_longitude, pickup_latitude), \n",
      "          ST_GeogPoint(dropoff_longitude, dropoff_latitude)\n",
      "      ) AS euclidean,\n",
      "      CONCAT(\n",
      "          ST_AsText(ST_SnapToGrid(ST_GeogPoint(pickup_longitude,\n",
      "              pickup_latitude), 0.1)), \n",
      "          ST_AsText(ST_SnapToGrid(ST_GeogPoint(dropoff_longitude,\n",
      "              dropoff_latitude), 0.1))\n",
      "      ) AS loc_cross,\n",
      "      IF((tips/fare >= 0.2), 1, 0) AS tip_bin,\n",
      "      IF(RAND() <= 0.8, 'UNASSIGNED', 'TEST') AS ML_use\n",
      "    FROM\n",
      "      taxitrips\n",
      "    LIMIT 1000000\n",
      ")\n",
      "\n"
     ]
    }
   ],
   "source": [
    "print(sql_script)"
   ]
  },
  {
   "cell_type": "code",
   "execution_count": 12,
   "id": "88f31e8c",
   "metadata": {},
   "outputs": [],
   "source": [
    "bq_client = bigquery.Client(project=PROJECT, location=BQ_LOCATION)\n",
    "job = bq_client.query(sql_script)\n",
    "_ = job.result()"
   ]
  },
  {
   "cell_type": "code",
   "execution_count": 13,
   "id": "b32eea6f",
   "metadata": {},
   "outputs": [
    {
     "name": "stderr",
     "output_type": "stream",
     "text": [
      "Query complete after 0.00s: 100%|██████████| 2/2 [00:00<00:00, 1065.76query/s]                        \n",
      "Downloading: 100%|██████████| 2/2 [00:00<00:00,  2.01rows/s]\n"
     ]
    },
    {
     "data": {
      "text/html": [
       "<div>\n",
       "<style scoped>\n",
       "    .dataframe tbody tr th:only-of-type {\n",
       "        vertical-align: middle;\n",
       "    }\n",
       "\n",
       "    .dataframe tbody tr th {\n",
       "        vertical-align: top;\n",
       "    }\n",
       "\n",
       "    .dataframe thead th {\n",
       "        text-align: right;\n",
       "    }\n",
       "</style>\n",
       "<table border=\"1\" class=\"dataframe\">\n",
       "  <thead>\n",
       "    <tr style=\"text-align: right;\">\n",
       "      <th></th>\n",
       "      <th>ML_use</th>\n",
       "      <th>f0_</th>\n",
       "    </tr>\n",
       "  </thead>\n",
       "  <tbody>\n",
       "    <tr>\n",
       "      <th>0</th>\n",
       "      <td>UNASSIGNED</td>\n",
       "      <td>800126</td>\n",
       "    </tr>\n",
       "    <tr>\n",
       "      <th>1</th>\n",
       "      <td>TEST</td>\n",
       "      <td>199874</td>\n",
       "    </tr>\n",
       "  </tbody>\n",
       "</table>\n",
       "</div>"
      ],
      "text/plain": [
       "       ML_use     f0_\n",
       "0  UNASSIGNED  800126\n",
       "1        TEST  199874"
      ]
     },
     "execution_count": 13,
     "metadata": {},
     "output_type": "execute_result"
    }
   ],
   "source": [
    "%%bigquery --project {PROJECT}\n",
    "\n",
    "SELECT ML_use, COUNT(*)\n",
    "FROM playground_us.chicago_taxitrips_prep # Change to your BQ dataset and table names.\n",
    "GROUP BY ML_use"
   ]
  },
  {
   "cell_type": "markdown",
   "id": "7fcc75fc",
   "metadata": {},
   "source": [
    "### Load a sample data to a Pandas DataFrame"
   ]
  },
  {
   "cell_type": "code",
   "execution_count": 14,
   "id": "f252a846",
   "metadata": {},
   "outputs": [
    {
     "name": "stderr",
     "output_type": "stream",
     "text": [
      "Query complete after 0.00s: 100%|██████████| 2/2 [00:00<00:00, 1229.82query/s]                        \n",
      "Downloading: 100%|██████████| 1000000/1000000 [00:01<00:00, 674119.05rows/s]\n"
     ]
    }
   ],
   "source": [
    "%%bigquery sample_data --project {PROJECT}\n",
    "\n",
    "SELECT * EXCEPT (trip_start_timestamp, ML_use)\n",
    "FROM playground_us.chicago_taxitrips_prep # Change to your BQ dataset and table names."
   ]
  },
  {
   "cell_type": "code",
   "execution_count": 15,
   "id": "798809d2",
   "metadata": {},
   "outputs": [
    {
     "data": {
      "text/html": [
       "<div>\n",
       "<style scoped>\n",
       "    .dataframe tbody tr th:only-of-type {\n",
       "        vertical-align: middle;\n",
       "    }\n",
       "\n",
       "    .dataframe tbody tr th {\n",
       "        vertical-align: top;\n",
       "    }\n",
       "\n",
       "    .dataframe thead th {\n",
       "        text-align: right;\n",
       "    }\n",
       "</style>\n",
       "<table border=\"1\" class=\"dataframe\">\n",
       "  <thead>\n",
       "    <tr style=\"text-align: right;\">\n",
       "      <th></th>\n",
       "      <th>0</th>\n",
       "      <th>1</th>\n",
       "      <th>2</th>\n",
       "      <th>3</th>\n",
       "      <th>4</th>\n",
       "    </tr>\n",
       "  </thead>\n",
       "  <tbody>\n",
       "    <tr>\n",
       "      <th>trip_month</th>\n",
       "      <td>1</td>\n",
       "      <td>2</td>\n",
       "      <td>2</td>\n",
       "      <td>1</td>\n",
       "      <td>2</td>\n",
       "    </tr>\n",
       "    <tr>\n",
       "      <th>trip_day</th>\n",
       "      <td>19</td>\n",
       "      <td>10</td>\n",
       "      <td>10</td>\n",
       "      <td>29</td>\n",
       "      <td>7</td>\n",
       "    </tr>\n",
       "    <tr>\n",
       "      <th>trip_day_of_week</th>\n",
       "      <td>1</td>\n",
       "      <td>2</td>\n",
       "      <td>2</td>\n",
       "      <td>4</td>\n",
       "      <td>6</td>\n",
       "    </tr>\n",
       "    <tr>\n",
       "      <th>trip_hour</th>\n",
       "      <td>0</td>\n",
       "      <td>17</td>\n",
       "      <td>17</td>\n",
       "      <td>7</td>\n",
       "      <td>11</td>\n",
       "    </tr>\n",
       "    <tr>\n",
       "      <th>trip_seconds</th>\n",
       "      <td>356</td>\n",
       "      <td>621</td>\n",
       "      <td>1093</td>\n",
       "      <td>7</td>\n",
       "      <td>229</td>\n",
       "    </tr>\n",
       "    <tr>\n",
       "      <th>trip_miles</th>\n",
       "      <td>1.64</td>\n",
       "      <td>1.1</td>\n",
       "      <td>0.75</td>\n",
       "      <td>0.03</td>\n",
       "      <td>0.49</td>\n",
       "    </tr>\n",
       "    <tr>\n",
       "      <th>payment_type</th>\n",
       "      <td>Cash</td>\n",
       "      <td>Credit Card</td>\n",
       "      <td>Cash</td>\n",
       "      <td>Cash</td>\n",
       "      <td>Cash</td>\n",
       "    </tr>\n",
       "    <tr>\n",
       "      <th>pickup_grid</th>\n",
       "      <td>POINT(-87.6 42)</td>\n",
       "      <td>POINT(-87.6 42)</td>\n",
       "      <td>POINT(-87.6 42)</td>\n",
       "      <td>POINT(-87.6 42)</td>\n",
       "      <td>POINT(-87.6 42)</td>\n",
       "    </tr>\n",
       "    <tr>\n",
       "      <th>dropoff_grid</th>\n",
       "      <td>POINT(-87.6 42)</td>\n",
       "      <td>POINT(-87.6 42)</td>\n",
       "      <td>POINT(-87.6 42)</td>\n",
       "      <td>POINT(-87.6 42)</td>\n",
       "      <td>POINT(-87.6 42)</td>\n",
       "    </tr>\n",
       "    <tr>\n",
       "      <th>euclidean</th>\n",
       "      <td>0.0</td>\n",
       "      <td>0.0</td>\n",
       "      <td>0.0</td>\n",
       "      <td>0.0</td>\n",
       "      <td>0.0</td>\n",
       "    </tr>\n",
       "    <tr>\n",
       "      <th>loc_cross</th>\n",
       "      <td>POINT(-87.6 42)POINT(-87.6 42)</td>\n",
       "      <td>POINT(-87.6 42)POINT(-87.6 42)</td>\n",
       "      <td>POINT(-87.6 42)POINT(-87.6 42)</td>\n",
       "      <td>POINT(-87.6 42)POINT(-87.6 42)</td>\n",
       "      <td>POINT(-87.6 42)POINT(-87.6 42)</td>\n",
       "    </tr>\n",
       "    <tr>\n",
       "      <th>tip_bin</th>\n",
       "      <td>0</td>\n",
       "      <td>1</td>\n",
       "      <td>0</td>\n",
       "      <td>0</td>\n",
       "      <td>0</td>\n",
       "    </tr>\n",
       "  </tbody>\n",
       "</table>\n",
       "</div>"
      ],
      "text/plain": [
       "                                               0  \\\n",
       "trip_month                                     1   \n",
       "trip_day                                      19   \n",
       "trip_day_of_week                               1   \n",
       "trip_hour                                      0   \n",
       "trip_seconds                                 356   \n",
       "trip_miles                                  1.64   \n",
       "payment_type                                Cash   \n",
       "pickup_grid                      POINT(-87.6 42)   \n",
       "dropoff_grid                     POINT(-87.6 42)   \n",
       "euclidean                                    0.0   \n",
       "loc_cross         POINT(-87.6 42)POINT(-87.6 42)   \n",
       "tip_bin                                        0   \n",
       "\n",
       "                                               1  \\\n",
       "trip_month                                     2   \n",
       "trip_day                                      10   \n",
       "trip_day_of_week                               2   \n",
       "trip_hour                                     17   \n",
       "trip_seconds                                 621   \n",
       "trip_miles                                   1.1   \n",
       "payment_type                         Credit Card   \n",
       "pickup_grid                      POINT(-87.6 42)   \n",
       "dropoff_grid                     POINT(-87.6 42)   \n",
       "euclidean                                    0.0   \n",
       "loc_cross         POINT(-87.6 42)POINT(-87.6 42)   \n",
       "tip_bin                                        1   \n",
       "\n",
       "                                               2  \\\n",
       "trip_month                                     2   \n",
       "trip_day                                      10   \n",
       "trip_day_of_week                               2   \n",
       "trip_hour                                     17   \n",
       "trip_seconds                                1093   \n",
       "trip_miles                                  0.75   \n",
       "payment_type                                Cash   \n",
       "pickup_grid                      POINT(-87.6 42)   \n",
       "dropoff_grid                     POINT(-87.6 42)   \n",
       "euclidean                                    0.0   \n",
       "loc_cross         POINT(-87.6 42)POINT(-87.6 42)   \n",
       "tip_bin                                        0   \n",
       "\n",
       "                                               3  \\\n",
       "trip_month                                     1   \n",
       "trip_day                                      29   \n",
       "trip_day_of_week                               4   \n",
       "trip_hour                                      7   \n",
       "trip_seconds                                   7   \n",
       "trip_miles                                  0.03   \n",
       "payment_type                                Cash   \n",
       "pickup_grid                      POINT(-87.6 42)   \n",
       "dropoff_grid                     POINT(-87.6 42)   \n",
       "euclidean                                    0.0   \n",
       "loc_cross         POINT(-87.6 42)POINT(-87.6 42)   \n",
       "tip_bin                                        0   \n",
       "\n",
       "                                               4  \n",
       "trip_month                                     2  \n",
       "trip_day                                       7  \n",
       "trip_day_of_week                               6  \n",
       "trip_hour                                     11  \n",
       "trip_seconds                                 229  \n",
       "trip_miles                                  0.49  \n",
       "payment_type                                Cash  \n",
       "pickup_grid                      POINT(-87.6 42)  \n",
       "dropoff_grid                     POINT(-87.6 42)  \n",
       "euclidean                                    0.0  \n",
       "loc_cross         POINT(-87.6 42)POINT(-87.6 42)  \n",
       "tip_bin                                        0  "
      ]
     },
     "execution_count": 15,
     "metadata": {},
     "output_type": "execute_result"
    }
   ],
   "source": [
    "sample_data.head().T"
   ]
  },
  {
   "cell_type": "code",
   "execution_count": 16,
   "id": "23595838",
   "metadata": {},
   "outputs": [
    {
     "data": {
      "text/plain": [
       "0    643949\n",
       "1    356051\n",
       "Name: tip_bin, dtype: int64"
      ]
     },
     "execution_count": 16,
     "metadata": {},
     "output_type": "execute_result"
    }
   ],
   "source": [
    "sample_data.tip_bin.value_counts()"
   ]
  },
  {
   "cell_type": "code",
   "execution_count": 17,
   "id": "3d06bb64",
   "metadata": {},
   "outputs": [
    {
     "data": {
      "text/plain": [
       "<AxesSubplot:>"
      ]
     },
     "execution_count": 17,
     "metadata": {},
     "output_type": "execute_result"
    },
    {
     "data": {
      "image/png": "[encoded data removed]",
      "text/plain": [
       "<Figure size 640x480 with 1 Axes>"
      ]
     },
     "metadata": {},
     "output_type": "display_data"
    }
   ],
   "source": [
    "sample_data.euclidean.hist()"
   ]
  },
  {
   "cell_type": "markdown",
   "id": "10aae180",
   "metadata": {},
   "source": [
    "## 3. Generate raw data schema\n",
    "\n",
    "The [TensorFlow Data Validation (TFDV)](https://www.tensorflow.org/tfx/data_validation/get_started) data schema will be used in:\n",
    "1. Identify the raw data types and shapes in the data transformation.\n",
    "2. Create the serving input signature for the custom model.\n",
    "3. Validate the new raw training data in the TFX pipeline."
   ]
  },
  {
   "cell_type": "code",
   "execution_count": 18,
   "id": "4087d5fa",
   "metadata": {},
   "outputs": [],
   "source": [
    "stats = tfdv.generate_statistics_from_dataframe(\n",
    "    dataframe=sample_data,\n",
    "    stats_options=tfdv.StatsOptions(\n",
    "        label_feature='tip_bin',\n",
    "        weight_feature=None,\n",
    "        sample_rate=1,\n",
    "        num_top_values=50\n",
    "    )\n",
    ")"
   ]
  },
  {
   "cell_type": "code",
   "execution_count": 19,
   "id": "091fbd77",
   "metadata": {},
   "outputs": [
    {
     "data": {
      "text/html": [
       "<iframe id='facets-iframe' width=\"100%\" height=\"500px\"></iframe>\n",
       "        <script>\n",
       "        facets_iframe = document.getElementById('facets-iframe');\n",
       "        facets_html = '<script src=\"https://cdnjs.cloudflare.com/ajax/libs/webcomponentsjs/1.3.3/webcomponents-lite.js\"><\\/script><link rel=\"import\" href=\"https://raw.githubusercontent.com/PAIR-code/facets/master/facets-dist/facets-jupyter.html\"><facets-overview proto-input=\"Cu6iAQoObGhzX3N0YXRpc3RpY3MQwIQ9GsUHGrQHCrgCCMCEPRgBIAEtAACAPzKkAhobCQAAAAAAAPA/EQAAAAAAAPA/IQAAAAAAavhAGhsJAAAAAAAA8D8RAAAAAAAA8D8hAAAAAABq+EAaGwkAAAAAAADwPxEAAAAAAADwPyEAAAAAAGr4QBobCQAAAAAAAPA/EQAAAAAAAPA/IQAAAAAAavhAGhsJAAAAAAAA8D8RAAAAAAAA8D8hAAAAAABq+EAaGwkAAAAAAADwPxEAAAAAAADwPyEAAAAAAGr4QBobCQAAAAAAAPA/EQAAAAAAAPA/IQAAAAAAavhAGhsJAAAAAAAA8D8RAAAAAAAA8D8hAAAAAABq+EAaGwkAAAAAAADwPxEAAAAAAADwPyEAAAAAAGr4QBobCQAAAAAAAPA/EQAAAAAAAPA/IQAAAAAAavhAIAFAwIQ9EbFOle8ZaQZAGcphlzk18wJAKQAAAAAAAPA/MQAAAAAAAABAOQAAAAAAAChAQqICGhsJAAAAAAAA8D8RzczMzMzMAEAhAAAAAOi4KEEaGwnNzMzMzMwAQBGamZmZmZkJQCEAAAAAAECPQBobCZqZmZmZmQlAETQzMzMzMxFAIQIAAAAAMIFAGhsJNDMzMzMzEUARmpmZmZmZFUAhAAAAAMBi5EAaGwmamZmZmZkVQBEAAAAAAAAaQCEAAAAAwFXyQBobCQAAAAAAABpAEWdmZmZmZh5AIQEAAAAA4KVAGhsJZ2ZmZmZmHkARZ2ZmZmZmIUAhAgAAAAAwgUAaGwlnZmZmZmYhQBGamZmZmZkjQCEAAAAAAAynQBobCZqZmZmZmSNAEc3MzMzMzCVAIQAAAABAFO9AGhsJzczMzMzMJUARAAAAAAAAKEAh//////83mEBCpAIaGwkAAAAAAADwPxEAAAAAAADwPyEAAAAAAGr4QBobCQAAAAAAAPA/EQAAAAAAAABAIQAAAAAAavhAGhsJAAAAAAAAAEARAAAAAAAAAEAhAAAAAABq+EAaGwkAAAAAAAAAQBEAAAAAAAAAQCEAAAAAAGr4QBobCQAAAAAAAABAEQAAAAAAAABAIQAAAAAAavhAGhsJAAAAAAAAAEARAAAAAAAAAEAhAAAAAABq+EAaGwkAAAAAAAAAQBEAAAAAAAAAQCEAAAAAAGr4QBobCQAAAAAAAABAEQAAAAAAAABAIQAAAAAAavhAGhsJAAAAAAAAAEARAAAAAAAAGEAhAAAAAABq+EAaGwkAAAAAAAAYQBEAAAAAAAAoQCEAAAAAAGr4QCABQgwKCnRyaXBfbW9udGgawwcatAcKuAIIwIQ9GAEgAS0AAIA/MqQCGhsJAAAAAAAA8D8RAAAAAAAA8D8hAAAAAABq+EAaGwkAAAAAAADwPxEAAAAAAADwPyEAAAAAAGr4QBobCQAAAAAAAPA/EQAAAAAAAPA/IQAAAAAAavhAGhsJAAAAAAAA8D8RAAAAAAAA8D8hAAAAAABq+EAaGwkAAAAAAADwPxEAAAAAAADwPyEAAAAAAGr4QBobCQAAAAAAAPA/EQAAAAAAAPA/IQAAAAAAavhAGhsJAAAAAAAA8D8RAAAAAAAA8D8hAAAAAABq+EAaGwkAAAAAAADwPxEAAAAAAADwPyEAAAAAAGr4QBobCQAAAAAAAPA/EQAAAAAAAPA/IQAAAAAAavhAGhsJAAAAAAAA8D8RAAAAAAAA8D8hAAAAAABq+EAgAUDAhD0R6+bib3tSL0AZmFwDKrp5IEApAAAAAAAA8D8xAAAAAAAAMEA5AAAAAAAAP0BCogIaGwkAAAAAAADwPxEAAAAAAAAQQCEAAAAAAI7yQBobCQAAAAAAABBAEQAAAAAAABxAIQAAAAAA4flAGhsJAAAAAAAAHEARAAAAAAAAJEAhAAAAAIA39kAaGwkAAAAAAAAkQBEAAAAAAAAqQCEAAAAAgKL5QBobCQAAAAAAACpAEQAAAAAAADBAIQAAAACADf1AGhsJAAAAAAAAMEARAAAAAAAAM0AhAAAAAABw90AaGwkAAAAAAAAzQBEAAAAAAAA2QCEAAAAAgAf+QBobCQAAAAAAADZAEQAAAAAAADlAIQAAAACAMfdAGhsJAAAAAAAAOUARAAAAAAAAPEAhAAAAAABY+0AaGwkAAAAAAAA8QBEAAAAAAAA/QCEAAAAAgMzyQEKkAhobCQAAAAAAAPA/EQAAAAAAABBAIQAAAAAAavhAGhsJAAAAAAAAEEARAAAAAAAAHEAhAAAAAABq+EAaGwkAAAAAAAAcQBEAAAAAAAAkQCEAAAAAAGr4QBobCQAAAAAAACRAEQAAAAAAACpAIQAAAAAAavhAGhsJAAAAAAAAKkARAAAAAAAAMEAhAAAAAABq+EAaGwkAAAAAAAAwQBEAAAAAAAAzQCEAAAAAAGr4QBobCQAAAAAAADNAEQAAAAAAADVAIQAAAAAAavhAGhsJAAAAAAAANUARAAAAAAAAOEAhAAAAAABq+EAaGwkAAAAAAAA4QBEAAAAAAAA7QCEAAAAAAGr4QBobCQAAAAAAADtAEQAAAAAAAD9AIQAAAAAAavhAIAFCCgoIdHJpcF9kYXkaywcatAcKuAIIwIQ9GAEgAS0AAIA/MqQCGhsJAAAAAAAA8D8RAAAAAAAA8D8hAAAAAABq+EAaGwkAAAAAAADwPxEAAAAAAADwPyEAAAAAAGr4QBobCQAAAAAAAPA/EQAAAAAAAPA/IQAAAAAAavhAGhsJAAAAAAAA8D8RAAAAAAAA8D8hAAAAAABq+EAaGwkAAAAAAADwPxEAAAAAAADwPyEAAAAAAGr4QBobCQAAAAAAAPA/EQAAAAAAAPA/IQAAAAAAavhAGhsJAAAAAAAA8D8RAAAAAAAA8D8hAAAAAABq+EAaGwkAAAAAAADwPxEAAAAAAADwPyEAAAAAAGr4QBobCQAAAAAAAPA/EQAAAAAAAPA/IQAAAAAAavhAGhsJAAAAAAAA8D8RAAAAAAAA8D8hAAAAAABq+EAgAUDAhD0RILWJk/utEEAZanY5XjGA/D8pAAAAAAAA8D8xAAAAAAAAEEA5AAAAAAAAHEBCogIaGwkAAAAAAADwPxGamZmZmZn5PyEAAAAAAOzzQBobCZqZmZmZmfk/EZqZmZmZmQFAIQAAAAAATwBBGhsJmpmZmZmZAUARZmZmZmZmBkAh/f////+/gkAaGwlmZmZmZmYGQBEzMzMzMzMLQCEAAAAAwKACQRobCTMzMzMzMwtAEQAAAAAAABBAIQEAAAAAwIJAGhsJAAAAAAAAEEARZmZmZmZmEkAhAAAAAMCUBEEaGwlmZmZmZmYSQBHNzMzMzMwUQCEAAAAAgOYGQRobCc3MzMzMzBRAETMzMzMzMxdAIf3/////v4JAGhsJMzMzMzMzF0ARmZmZmZmZGUAhAAAAAIBvBUEaGwmZmZmZmZkZQBEAAAAAAAAcQCEAAAAAgBL4QEKkAhobCQAAAAAAAPA/EQAAAAAAAABAIQAAAAAAavhAGhsJAAAAAAAAAEARAAAAAAAAAEAhAAAAAABq+EAaGwkAAAAAAAAAQBEAAAAAAAAIQCEAAAAAAGr4QBobCQAAAAAAAAhAEQAAAAAAABBAIQAAAAAAavhAGhsJAAAAAAAAEEARAAAAAAAAEEAhAAAAAABq+EAaGwkAAAAAAAAQQBEAAAAAAAAUQCEAAAAAAGr4QBobCQAAAAAAABRAEQAAAAAAABRAIQAAAAAAavhAGhsJAAAAAAAAFEARAAAAAAAAGEAhAAAAAABq+EAaGwkAAAAAAAAYQBEAAAAAAAAYQCEAAAAAAGr4QBobCQAAAAAAABhAEQAAAAAAABxAIQAAAAAAavhAIAFCEgoQdHJpcF9kYXlfb2Zfd2VlaxqtBxqdBwq4AgjAhD0YASABLQAAgD8ypAIaGwkAAAAAAADwPxEAAAAAAADwPyEAAAAAAGr4QBobCQAAAAAAAPA/EQAAAAAAAPA/IQAAAAAAavhAGhsJAAAAAAAA8D8RAAAAAAAA8D8hAAAAAABq+EAaGwkAAAAAAADwPxEAAAAAAADwPyEAAAAAAGr4QBobCQAAAAAAAPA/EQAAAAAAAPA/IQAAAAAAavhAGhsJAAAAAAAA8D8RAAAAAAAA8D8hAAAAAABq+EAaGwkAAAAAAADwPxEAAAAAAADwPyEAAAAAAGr4QBobCQAAAAAAAPA/EQAAAAAAAPA/IQAAAAAAavhAGhsJAAAAAAAA8D8RAAAAAAAA8D8hAAAAAABq+EAaGwkAAAAAAADwPxEAAAAAAADwPyEAAAAAAGr4QCABQMCEPRFS1QRR95krQBmOtfrERUoVQCD6jQExAAAAAAAALEA5AAAAAAAAN0BCmQIaEhFmZmZmZmYCQCEAAAAAgCTlQBobCWZmZmZmZgJAEWZmZmZmZhJAIQAAAAAA4s1AGhsJZmZmZmZmEkARmZmZmZmZG0AhAAAAAADH1UAaGwmZmZmZmZkbQBFmZmZmZmYiQCEAAAAA4GQAQRobCWZmZmZmZiJAEQAAAAAAACdAIQAAAABAr/pAGhsJAAAAAAAAJ0ARmZmZmZmZK0AhAAAAAMBY/kAaGwmZmZmZmZkrQBGZmZmZmRkwQCEAAAAA4DQIQRobCZmZmZmZGTBAEWZmZmZmZjJAIQAAAACgOQJBGhsJZmZmZmZmMkARMzMzMzOzNEAhAAAAAECv+kAaGwkzMzMzM7M0QBEAAAAAAAA3QCEAAAAAwAX3QEKbAhoSEQAAAAAAABxAIQAAAAAAavhAGhsJAAAAAAAAHEARAAAAAAAAIkAhAAAAAABq+EAaGwkAAAAAAAAiQBEAAAAAAAAmQCEAAAAAAGr4QBobCQAAAAAAACZAEQAAAAAAACpAIQAAAAAAavhAGhsJAAAAAAAAKkARAAAAAAAALEAhAAAAAABq+EAaGwkAAAAAAAAsQBEAAAAAAAAwQCEAAAAAAGr4QBobCQAAAAAAADBAEQAAAAAAADFAIQAAAAAAavhAGhsJAAAAAAAAMUARAAAAAAAAM0AhAAAAAABq+EAaGwkAAAAAAAAzQBEAAAAAAAA0QCEAAAAAAGr4QBobCQAAAAAAADRAEQAAAAAAADdAIQAAAAAAavhAIAFCCwoJdHJpcF9ob3VyGscHGrQHCrgCCMCEPRgBIAEtAACAPzKkAhobCQAAAAAAAPA/EQAAAAAAAPA/IQAAAAAAavhAGhsJAAAAAAAA8D8RAAAAAAAA8D8hAAAAAABq+EAaGwkAAAAAAADwPxEAAAAAAADwPyEAAAAAAGr4QBobCQAAAAAAAPA/EQAAAAAAAPA/IQAAAAAAavhAGhsJAAAAAAAA8D8RAAAAAAAA8D8hAAAAAABq+EAaGwkAAAAAAADwPxEAAAAAAADwPyEAAAAAAGr4QBobCQAAAAAAAPA/EQAAAAAAAPA/IQAAAAAAavhAGhsJAAAAAAAA8D8RAAAAAAAA8D8hAAAAAABq+EAaGwkAAAAAAADwPxEAAAAAAADwPyEAAAAAAGr4QBobCQAAAAAAAPA/EQAAAAAAAPA/IQAAAAAAavhAIAFAwIQ9EZSGGoXkOotAGaHO49ZqEZdAKQAAAAAAAPA/MQAAAAAAwIJAOQAAAADg6fRAQqICGhsJAAAAAAAA8D8RzczMzIy7wEAhaKwPjS55LkEaGwnNzMzMjLvAQBHNzMzMTLvQQCFvBgNAnseAQBobCc3MzMxMu9BAETQzMzPTGNlAIZxXS4EtflxAGhsJNDMzM9MY2UARzczMzCy74EAhmVdLgS1+XEAaGwnNzMzMLLvgQBEAAAAA8OnkQCGZV0uBLX5cQBobCQAAAADw6eRAETQzMzOzGOlAIaBXS4EtflxAGhsJNDMzM7MY6UARZ2ZmZnZH7UAhmVdLgS1+XEAaGwlnZmZmdkftQBHNzMzMHLvwQCGZV0uBLX5cQBobCc3MzMwcu/BAEWdmZmZ+0vJAIaBXS4EtflxAGhsJZ2ZmZn7S8kARAAAAAODp9EAhkldLgS1+XEBCpAIaGwkAAAAAAADwPxEAAAAAAABuQCEAAAAAAGr4QBobCQAAAAAAAG5AEQAAAAAAMHVAIQAAAAAAavhAGhsJAAAAAAAwdUARAAAAAABAekAhAAAAAABq+EAaGwkAAAAAAEB6QBEAAAAAADB/QCEAAAAAAGr4QBobCQAAAAAAMH9AEQAAAAAAwIJAIQAAAAAAavhAGhsJAAAAAADAgkARAAAAAACAhkAhAAAAAABq+EAaGwkAAAAAAICGQBEAAAAAAEiMQCEAAAAAAGr4QBobCQAAAAAASIxAEQAAAAAAjJNAIQAAAAAAavhAGhsJAAAAAACMk0ARAAAAAAAwm0AhAAAAAABq+EAaGwkAAAAAADCbQBEAAAAA4On0QCEAAAAAAGr4QCABQg4KDHRyaXBfc2Vjb25kcxrHBxABGrQHCrgCCMCEPRgBIAEtAACAPzKkAhobCQAAAAAAAPA/EQAAAAAAAPA/IQAAAAAAavhAGhsJAAAAAAAA8D8RAAAAAAAA8D8hAAAAAABq+EAaGwkAAAAAAADwPxEAAAAAAADwPyEAAAAAAGr4QBobCQAAAAAAAPA/EQAAAAAAAPA/IQAAAAAAavhAGhsJAAAAAAAA8D8RAAAAAAAA8D8hAAAAAABq+EAaGwkAAAAAAADwPxEAAAAAAADwPyEAAAAAAGr4QBobCQAAAAAAAPA/EQAAAAAAAPA/IQAAAAAAavhAGhsJAAAAAAAA8D8RAAAAAAAA8D8hAAAAAABq+EAaGwkAAAAAAADwPxEAAAAAAADwPyEAAAAAAGr4QBobCQAAAAAAAPA/EQAAAAAAAPA/IQAAAAAAavhAIAFAwIQ9ERF1UHBOqA5AGaiXrikynBdAKXsUrkfheoQ/MQAAAAAAAPg/Oc3MzMzMDI9AQqICGhsJexSuR+F6hD8RVw4tsp3XWEAhEo+yeD19LkEaGwlXDi2ynddYQBGe76fGS9doQCE43Ob2GdBZQBobCZ7vp8ZL12hAEQisHFpkoXJAITbc5vYZ0FlAGhsJCKwcWmShckARQmDl0CLXeEAhO9zm9hnQWUAaGwlCYOXQItd4QBF8FK5H4Qx/QCE73Ob2GdBZQBobCXwUrkfhDH9AEVpkO99PoYJAITLc5vYZ0FlAGhsJWmQ730+hgkARd76fGi+8hUAhO9zm9hnQWUAaGwl3vp8aL7yFQBGUGARWDteIQCE73Ob2GdBZQBobCZQYBFYO14hAEbFyaJHt8YtAITvc5vYZ0FlAGhsJsXJoke3xi0ARzczMzMwMj0AhMtzm9hnQWUBCpAIaGwl7FK5H4XqEPxEAAAAAAADgPyEAAAAAAGr4QBobCQAAAAAAAOA/EWZmZmZmZuY/IQAAAAAAavhAGhsJZmZmZmZm5j8RcT0K16Nw7T8hAAAAAABq+EAaGwlxPQrXo3DtPxEK16NwPQrzPyEAAAAAAGr4QBobCQrXo3A9CvM/EQAAAAAAAPg/IQAAAAAAavhAGhsJAAAAAAAA+D8RAAAAAAAAAEAhAAAAAABq+EAaGwkAAAAAAAAAQBG4HoXrUbgIQCEAAAAAAGr4QBobCbgehetRuAhAEc3MzMzMzBZAIQAAAAAAavhAGhsJzczMzMzMFkARuB6F61E4KUAhAAAAAABq+EAaGwm4HoXrUTgpQBHNzMzMzAyPQCEAAAAAAGr4QCABQgwKCnRyaXBfbWlsZXMauAUQAiKjBQq4AgjAhD0YASABLQAAgD8ypAIaGwkAAAAAAADwPxEAAAAAAADwPyEAAAAAAGr4QBobCQAAAAAAAPA/EQAAAAAAAPA/IQAAAAAAavhAGhsJAAAAAAAA8D8RAAAAAAAA8D8hAAAAAABq+EAaGwkAAAAAAADwPxEAAAAAAADwPyEAAAAAAGr4QBobCQAAAAAAAPA/EQAAAAAAAPA/IQAAAAAAavhAGhsJAAAAAAAA8D8RAAAAAAAA8D8hAAAAAABq+EAaGwkAAAAAAADwPxEAAAAAAADwPyEAAAAAAGr4QBobCQAAAAAAAPA/EQAAAAAAAPA/IQAAAAAAavhAGhsJAAAAAAAA8D8RAAAAAAAA8D8hAAAAAABq+EAaGwkAAAAAAADwPxEAAAAAAADwPyEAAAAAAGr4QCABQMCEPRAIGg8SBENhc2gZAAAAAOhyG0EaFhILQ3JlZGl0IENhcmQZAAAAACj1GkEaERIGUHJjYXJkGQAAAADArOlAGhISB1Vua25vd24ZAAAAAEB+30AaERIGTW9iaWxlGQAAAAAAx9VAGhQSCU5vIENoYXJnZRkAAAAAAACQQBoSEgdEaXNwdXRlGQAAAAAAYHhAGhISB1ByZXBhaWQZAAAAAACATUAlwAfrQCq9AQoPIgRDYXNoKQAAAADochtBChoIARABIgtDcmVkaXQgQ2FyZCkAAAAAKPUaQQoVCAIQAiIGUHJjYXJkKQAAAADArOlAChYIAxADIgdVbmtub3duKQAAAABAft9AChUIBBAEIgZNb2JpbGUpAAAAAADH1UAKGAgFEAUiCU5vIENoYXJnZSkAAAAAAACQQAoWCAYQBiIHRGlzcHV0ZSkAAAAAAGB4QAoWCAcQByIHUHJlcGFpZCkAAAAAAIBNQEIOCgxwYXltZW50X3R5cGUahQkQAiLxCAq4AgjAhD0YASABLQAAgD8ypAIaGwkAAAAAAADwPxEAAAAAAADwPyEAAAAAAGr4QBobCQAAAAAAAPA/EQAAAAAAAPA/IQAAAAAAavhAGhsJAAAAAAAA8D8RAAAAAAAA8D8hAAAAAABq+EAaGwkAAAAAAADwPxEAAAAAAADwPyEAAAAAAGr4QBobCQAAAAAAAPA/EQAAAAAAAPA/IQAAAAAAavhAGhsJAAAAAAAA8D8RAAAAAAAA8D8hAAAAAABq+EAaGwkAAAAAAADwPxEAAAAAAADwPyEAAAAAAGr4QBobCQAAAAAAAPA/EQAAAAAAAPA/IQAAAAAAavhAGhsJAAAAAAAA8D8RAAAAAAAA8D8hAAAAAABq+EAaGwkAAAAAAADwPxEAAAAAAADwPyEAAAAAAGr4QCABQMCEPRANGhwSEVBPSU5UKC04Ny42IDQxLjkpGQAAAACOWiRBGhwSEVBPSU5UKC04Ny43IDQxLjkpGQAAAACAz/lAGhoSD1BPSU5UKC04Ny45IDQyKRkAAAAA4JbzQBoaEg9QT0lOVCgtODcuNyA0MikZAAAAAMAD7UAaHBIRUE9JTlQoLTg3LjYgNDEuOCkZAAAAAGBr4kAaHBIRUE9JTlQoLTg3LjggNDEuOCkZAAAAAMAq0EAaHBIRUE9JTlQoLTg3LjYgNDEuNykZAAAAAIB8xUAaGhIPUE9JTlQoLTg3LjggNDIpGQAAAACAGcBAGhwSEVBPSU5UKC04Ny43IDQxLjgpGQAAAAAAXbRAGhwSEVBPSU5UKC04Ny44IDQxLjkpGQAAAAAA9K9AGhwSEVBPSU5UKC04Ny43IDQxLjcpGQAAAAAAiK5AGhoSD1BPSU5UKC04Ny42IDQyKRkAAAAAAPB+QBocEhFQT0lOVCgtODcuNSA0MS43KRkAAAAAAJB7QCUpoIVBKq4DChwiEVBPSU5UKC04Ny42IDQxLjkpKQAAAACOWiRBCiAIARABIhFQT0lOVCgtODcuNyA0MS45KSkAAAAAgM/5QAoeCAIQAiIPUE9JTlQoLTg3LjkgNDIpKQAAAADglvNACh4IAxADIg9QT0lOVCgtODcuNyA0MikpAAAAAMAD7UAKIAgEEAQiEVBPSU5UKC04Ny42IDQxLjgpKQAAAABga+JACiAIBRAFIhFQT0lOVCgtODcuOCA0MS44KSkAAAAAwCrQQAogCAYQBiIRUE9JTlQoLTg3LjYgNDEuNykpAAAAAIB8xUAKHggHEAciD1BPSU5UKC04Ny44IDQyKSkAAAAAgBnAQAogCAgQCCIRUE9JTlQoLTg3LjcgNDEuOCkpAAAAAABdtEAKIAgJEAkiEVBPSU5UKC04Ny44IDQxLjkpKQAAAAAA9K9ACiAIChAKIhFQT0lOVCgtODcuNyA0MS43KSkAAAAAAIiuQAoeCAsQCyIPUE9JTlQoLTg3LjYgNDIpKQAAAAAA8H5ACiAIDBAMIhFQT0lOVCgtODcuNSA0MS43KSkAAAAAAJB7QEINCgtwaWNrdXBfZ3JpZBqGCRACIvEICrgCCMCEPRgBIAEtAACAPzKkAhobCQAAAAAAAPA/EQAAAAAAAPA/IQAAAAAAavhAGhsJAAAAAAAA8D8RAAAAAAAA8D8hAAAAAABq+EAaGwkAAAAAAADwPxEAAAAAAADwPyEAAAAAAGr4QBobCQAAAAAAAPA/EQAAAAAAAPA/IQAAAAAAavhAGhsJAAAAAAAA8D8RAAAAAAAA8D8hAAAAAABq+EAaGwkAAAAAAADwPxEAAAAAAADwPyEAAAAAAGr4QBobCQAAAAAAAPA/EQAAAAAAAPA/IQAAAAAAavhAGhsJAAAAAAAA8D8RAAAAAAAA8D8hAAAAAABq+EAaGwkAAAAAAADwPxEAAAAAAADwPyEAAAAAAGr4QBobCQAAAAAAAPA/EQAAAAAAAPA/IQAAAAAAavhAIAFAwIQ9EA0aHBIRUE9JTlQoLTg3LjYgNDEuOSkZAAAAAMIVI0EaHBIRUE9JTlQoLTg3LjcgNDEuOSkZAAAAAHgiBUEaGhIPUE9JTlQoLTg3LjcgNDIpGQAAAACwUvJAGhwSEVBPSU5UKC04Ny42IDQxLjgpGQAAAABgUeZAGhoSD1BPSU5UKC04Ny45IDQyKRkAAAAAAHHcQBocEhFQT0lOVCgtODcuNiA0MS43KRkAAAAAgBnIQBoaEg9QT0lOVCgtODcuOCA0MikZAAAAAIDRxkAaHBIRUE9JTlQoLTg3LjcgNDEuOCkZAAAAAABpvkAaHBIRUE9JTlQoLTg3LjggNDEuOCkZAAAAAAC2vUAaHBIRUE9JTlQoLTg3LjggNDEuOSkZAAAAAAA4uUAaHBIRUE9JTlQoLTg3LjcgNDEuNykZAAAAAADisUAaGhIPUE9JTlQoLTg3LjYgNDIpGQAAAAAAkIlAGhwSEVBPSU5UKC04Ny41IDQxLjcpGQAAAAAAUHVAJRgihkEqrgMKHCIRUE9JTlQoLTg3LjYgNDEuOSkpAAAAAMIVI0EKIAgBEAEiEVBPSU5UKC04Ny43IDQxLjkpKQAAAAB4IgVBCh4IAhACIg9QT0lOVCgtODcuNyA0MikpAAAAALBS8kAKIAgDEAMiEVBPSU5UKC04Ny42IDQxLjgpKQAAAABgUeZACh4IBBAEIg9QT0lOVCgtODcuOSA0MikpAAAAAABx3EAKIAgFEAUiEVBPSU5UKC04Ny42IDQxLjcpKQAAAACAGchACh4IBhAGIg9QT0lOVCgtODcuOCA0MikpAAAAAIDRxkAKIAgHEAciEVBPSU5UKC04Ny43IDQxLjgpKQAAAAAAab5ACiAICBAIIhFQT0lOVCgtODcuOCA0MS44KSkAAAAAALa9QAogCAkQCSIRUE9JTlQoLTg3LjggNDEuOSkpAAAAAAA4uUAKIAgKEAoiEVBPSU5UKC04Ny43IDQxLjcpKQAAAAAA4rFACh4ICxALIg9QT0lOVCgtODcuNiA0MikpAAAAAACQiUAKIAgMEAwiEVBPSU5UKC04Ny41IDQxLjcpKQAAAAAAUHVAQg4KDGRyb3BvZmZfZ3JpZBqdBxABGosHCrgCCMCEPRgBIAEtAACAPzKkAhobCQAAAAAAAPA/EQAAAAAAAPA/IQAAAAAAavhAGhsJAAAAAAAA8D8RAAAAAAAA8D8hAAAAAABq+EAaGwkAAAAAAADwPxEAAAAAAADwPyEAAAAAAGr4QBobCQAAAAAAAPA/EQAAAAAAAPA/IQAAAAAAavhAGhsJAAAAAAAA8D8RAAAAAAAA8D8hAAAAAABq+EAaGwkAAAAAAADwPxEAAAAAAADwPyEAAAAAAGr4QBobCQAAAAAAAPA/EQAAAAAAAPA/IQAAAAAAavhAGhsJAAAAAAAA8D8RAAAAAAAA8D8hAAAAAABq+EAaGwkAAAAAAADwPxEAAAAAAADwPyEAAAAAAGr4QBobCQAAAAAAAPA/EQAAAAAAAPA/IQAAAAAAavhAIAFAwIQ9EeipBp6wnrRAGfio1ba3krtAIPmzCDFhOBvd4oOiQDkBEysHvN3mQEKZAhoSEQHciNL8SrJAIQAC/nGBUCVBGhsJAdyI0vxKskARAdyI0vxKwkAhY82atP+2/UAaGwkB3IjS/ErCQBECSs07e3DLQCGKegxw0XToQBobCQJKzTt7cMtAEQHciNL8StJAIXJP3kGBkeFAGhsJAdyI0vxK0kARARMrB7zd1kAhNKtvG9uy30AaGwkBEysHvN3WQBECSs07e3DbQCEZeus6Zb/sQBobCQJKzTt7cNtAEYHANzidAeBAIWhWarVLXZRAGhsJgcA3OJ0B4EARAdyI0vxK4kAhDD6RMQ8RfEAaGwkB3IjS/EriQBGB99lsXJTkQCEFlm0T4O11QBobCYH32WxclORAEQETKwe83eZAIQWWbRPg7XVAQokCGgkhAAAAAABq+EAaEhFH/FCTiNOLQCEAAAAAAGr4QBobCUf8UJOI04tAETE4tYp3OpNAIQAAAAAAavhAGhsJMTi1inc6k0ARmSFbagQ5m0AhAAAAAABq+EAaGwmZIVtqBDmbQBFhOBvd4oOiQCEAAAAAAGr4QBobCWE4G93ig6JAEUGvGTWFcKdAIQAAAAAAavhAGhsJQa8ZNYVwp0ARHhDFvst/skAhAAAAAABq+EAaGwkeEMW+y3+yQBEg/pKlGZW+QCEAAAAAAGr4QBobCSD+kqUZlb5AEZ/4oeUV9dBAIQAAAAAAavhAGhsJn/ih5RX10EARARMrB7zd5kAhAAAAAABq+EAgAUILCglldWNsaWRlYW4aklAQAiKAUAq4AgjAhD0YASABLQAAgD8ypAIaGwkAAAAAAADwPxEAAAAAAADwPyEAAAAAAGr4QBobCQAAAAAAAPA/EQAAAAAAAPA/IQAAAAAAavhAGhsJAAAAAAAA8D8RAAAAAAAA8D8hAAAAAABq+EAaGwkAAAAAAADwPxEAAAAAAADwPyEAAAAAAGr4QBobCQAAAAAAAPA/EQAAAAAAAPA/IQAAAAAAavhAGhsJAAAAAAAA8D8RAAAAAAAA8D8hAAAAAABq+EAaGwkAAAAAAADwPxEAAAAAAADwPyEAAAAAAGr4QBobCQAAAAAAAPA/EQAAAAAAAPA/IQAAAAAAavhAGhsJAAAAAAAA8D8RAAAAAAAA8D8hAAAAAABq+EAaGwkAAAAAAADwPxEAAAAAAADwPyEAAAAAAGr4QCABQMCEPRCYARotEiJQT0lOVCgtODcuNiA0MS45KVBPSU5UKC04Ny42IDQxLjkpGQAAAADQkB9BGi0SIlBPSU5UKC04Ny42IDQxLjkpUE9JTlQoLTg3LjcgNDEuOSkZAAAAANDj9UAaLRIiUE9JTlQoLTg3LjcgNDEuOSlQT0lOVCgtODcuNyA0MS45KRkAAAAAIKflQBorEiBQT0lOVCgtODcuOSA0MilQT0lOVCgtODcuNiA0MS45KRkAAAAAIDHlQBopEh5QT0lOVCgtODcuNyA0MilQT0lOVCgtODcuNyA0MikZAAAAAOAa4kAaLRIiUE9JTlQoLTg3LjcgNDEuOSlQT0lOVCgtODcuNiA0MS45KRkAAAAAAG7gQBorEiBQT0lOVCgtODcuNiA0MS45KVBPSU5UKC04Ny45IDQyKRkAAAAAALvQQBorEiBQT0lOVCgtODcuOSA0MilQT0lOVCgtODcuNyA0MS45KRkAAAAAgD7QQBotEiJQT0lOVCgtODcuNiA0MS45KVBPSU5UKC04Ny42IDQxLjgpGQAAAACABc5AGisSIFBPSU5UKC04Ny42IDQxLjkpUE9JTlQoLTg3LjcgNDIpGQAAAAAAr81AGi0SIlBPSU5UKC04Ny42IDQxLjgpUE9JTlQoLTg3LjYgNDEuOCkZAAAAAACmzEAaKxIgUE9JTlQoLTg3LjcgNDEuOSlQT0lOVCgtODcuNyA0MikZAAAAAIBpx0AaLRIiUE9JTlQoLTg3LjYgNDEuOClQT0lOVCgtODcuNiA0MS45KRkAAAAAgLjDQBorEiBQT0lOVCgtODcuNyA0MilQT0lOVCgtODcuNyA0MS45KRkAAAAAAJvCQBotEiJQT0lOVCgtODcuOCA0MS44KVBPSU5UKC04Ny42IDQxLjkpGQAAAACAy8FAGisSIFBPSU5UKC04Ny43IDQyKVBPSU5UKC04Ny42IDQxLjkpGQAAAAAA3b1AGikSHlBPSU5UKC04Ny45IDQyKVBPSU5UKC04Ny45IDQyKRkAAAAAAA+8QBopEh5QT0lOVCgtODcuOSA0MilQT0lOVCgtODcuNyA0MikZAAAAAACuu0AaLRIiUE9JTlQoLTg3LjcgNDEuOSlQT0lOVCgtODcuNiA0MS44KRkAAAAAANq2QBotEiJQT0lOVCgtODcuNiA0MS45KVBPSU5UKC04Ny44IDQxLjgpGQAAAAAAqrJAGi0SIlBPSU5UKC04Ny42IDQxLjgpUE9JTlQoLTg3LjcgNDEuOSkZAAAAAACzsUAaLRIiUE9JTlQoLTg3LjYgNDEuOClQT0lOVCgtODcuNiA0MS43KRkAAAAAACytQBopEh5QT0lOVCgtODcuOCA0MilQT0lOVCgtODcuOCA0MikZAAAAAACaq0AaLRIiUE9JTlQoLTg3LjYgNDEuNylQT0lOVCgtODcuNiA0MS44KRkAAAAAAEKrQBotEiJQT0lOVCgtODcuNiA0MS43KVBPSU5UKC04Ny42IDQxLjcpGQAAAAAAsqlAGi0SIlBPSU5UKC04Ny44IDQxLjgpUE9JTlQoLTg3LjcgNDEuOSkZAAAAAAB2qUAaKRIeUE9JTlQoLTg3LjkgNDIpUE9JTlQoLTg3LjggNDIpGQAAAAAAgqdAGi0SIlBPSU5UKC04Ny43IDQxLjkpUE9JTlQoLTg3LjggNDEuOSkZAAAAAACcn0AaKxIgUE9JTlQoLTg3LjcgNDEuOSlQT0lOVCgtODcuOSA0MikZAAAAAADMnkAaLRIiUE9JTlQoLTg3LjYgNDEuOSlQT0lOVCgtODcuNiA0MS43KRkAAAAAABCdQBotEiJQT0lOVCgtODcuNiA0MS45KVBPSU5UKC04Ny43IDQxLjgpGQAAAAAAbJtAGikSHlBPSU5UKC04Ny43IDQyKVBPSU5UKC04Ny44IDQyKRkAAAAAAAibQBotEiJQT0lOVCgtODcuNyA0MS45KVBPSU5UKC04Ny42IDQxLjcpGQAAAAAAPJlAGisSIFBPSU5UKC04Ny45IDQyKVBPSU5UKC04Ny42IDQxLjgpGQAAAAAAOJlAGi0SIlBPSU5UKC04Ny43IDQxLjkpUE9JTlQoLTg3LjcgNDEuOCkZAAAAAABomEAaKRIeUE9JTlQoLTg3LjggNDIpUE9JTlQoLTg3LjcgNDIpGQAAAAAASJhAGisSIFBPSU5UKC04Ny42IDQxLjkpUE9JTlQoLTg3LjggNDIpGQAAAAAA8JZAGi0SIlBPSU5UKC04Ny42IDQxLjgpUE9JTlQoLTg3LjcgNDEuOCkZAAAAAACQlkAaKxIgUE9JTlQoLTg3LjcgNDEuOSlQT0lOVCgtODcuOCA0MikZAAAAAABolUAaKRIeUE9JTlQoLTg3LjcgNDIpUE9JTlQoLTg3LjkgNDIpGQAAAAAAnJRAGi0SIlBPSU5UKC04Ny43IDQxLjgpUE9JTlQoLTg3LjcgNDEuOCkZAAAAAAA8lEAaLRIiUE9JTlQoLTg3LjYgNDEuNylQT0lOVCgtODcuNyA0MS45KRkAAAAAACSUQBotEiJQT0lOVCgtODcuNiA0MS43KVBPSU5UKC04Ny42IDQxLjkpGQAAAAAASJNAGi0SIlBPSU5UKC04Ny44IDQxLjkpUE9JTlQoLTg3LjcgNDEuOSkZAAAAAAAwk0AaKxIgUE9JTlQoLTg3LjggNDIpUE9JTlQoLTg3LjcgNDEuOSkZAAAAAAAQk0AaLRIiUE9JTlQoLTg3LjggNDEuOClQT0lOVCgtODcuNiA0MS44KRkAAAAAAMiSQBotEiJQT0lOVCgtODcuNiA0MS45KVBPSU5UKC04Ny44IDQxLjkpGQAAAAAAKJJAGi0SIlBPSU5UKC04Ny43IDQxLjgpUE9JTlQoLTg3LjYgNDEuOCkZAAAAAADckUAaLRIiUE9JTlQoLTg3LjYgNDEuOClQT0lOVCgtODcuNyA0MS43KRkAAAAAAOSQQBotEiJQT0lOVCgtODcuOCA0MS44KVBPSU5UKC04Ny44IDQxLjgpGQAAAAAAiJBAJSHhBUIqxDsKLSIiUE9JTlQoLTg3LjYgNDEuOSlQT0lOVCgtODcuNiA0MS45KSkAAAAA0JAfQQoxCAEQASIiUE9JTlQoLTg3LjYgNDEuOSlQT0lOVCgtODcuNyA0MS45KSkAAAAA0OP1QAoxCAIQAiIiUE9JTlQoLTg3LjcgNDEuOSlQT0lOVCgtODcuNyA0MS45KSkAAAAAIKflQAovCAMQAyIgUE9JTlQoLTg3LjkgNDIpUE9JTlQoLTg3LjYgNDEuOSkpAAAAACAx5UAKLQgEEAQiHlBPSU5UKC04Ny43IDQyKVBPSU5UKC04Ny43IDQyKSkAAAAA4BriQAoxCAUQBSIiUE9JTlQoLTg3LjcgNDEuOSlQT0lOVCgtODcuNiA0MS45KSkAAAAAAG7gQAovCAYQBiIgUE9JTlQoLTg3LjYgNDEuOSlQT0lOVCgtODcuOSA0MikpAAAAAAC70EAKLwgHEAciIFBPSU5UKC04Ny45IDQyKVBPSU5UKC04Ny43IDQxLjkpKQAAAACAPtBACjEICBAIIiJQT0lOVCgtODcuNiA0MS45KVBPSU5UKC04Ny42IDQxLjgpKQAAAACABc5ACi8ICRAJIiBQT0lOVCgtODcuNiA0MS45KVBPSU5UKC04Ny43IDQyKSkAAAAAAK/NQAoxCAoQCiIiUE9JTlQoLTg3LjYgNDEuOClQT0lOVCgtODcuNiA0MS44KSkAAAAAAKbMQAovCAsQCyIgUE9JTlQoLTg3LjcgNDEuOSlQT0lOVCgtODcuNyA0MikpAAAAAIBpx0AKMQgMEAwiIlBPSU5UKC04Ny42IDQxLjgpUE9JTlQoLTg3LjYgNDEuOSkpAAAAAIC4w0AKLwgNEA0iIFBPSU5UKC04Ny43IDQyKVBPSU5UKC04Ny43IDQxLjkpKQAAAAAAm8JACjEIDhAOIiJQT0lOVCgtODcuOCA0MS44KVBPSU5UKC04Ny42IDQxLjkpKQAAAACAy8FACi8IDxAPIiBQT0lOVCgtODcuNyA0MilQT0lOVCgtODcuNiA0MS45KSkAAAAAAN29QAotCBAQECIeUE9JTlQoLTg3LjkgNDIpUE9JTlQoLTg3LjkgNDIpKQAAAAAAD7xACi0IERARIh5QT0lOVCgtODcuOSA0MilQT0lOVCgtODcuNyA0MikpAAAAAACuu0AKMQgSEBIiIlBPSU5UKC04Ny43IDQxLjkpUE9JTlQoLTg3LjYgNDEuOCkpAAAAAADatkAKMQgTEBMiIlBPSU5UKC04Ny42IDQxLjkpUE9JTlQoLTg3LjggNDEuOCkpAAAAAACqskAKMQgUEBQiIlBPSU5UKC04Ny42IDQxLjgpUE9JTlQoLTg3LjcgNDEuOSkpAAAAAACzsUAKMQgVEBUiIlBPSU5UKC04Ny42IDQxLjgpUE9JTlQoLTg3LjYgNDEuNykpAAAAAAAsrUAKLQgWEBYiHlBPSU5UKC04Ny44IDQyKVBPSU5UKC04Ny44IDQyKSkAAAAAAJqrQAoxCBcQFyIiUE9JTlQoLTg3LjYgNDEuNylQT0lOVCgtODcuNiA0MS44KSkAAAAAAEKrQAoxCBgQGCIiUE9JTlQoLTg3LjYgNDEuNylQT0lOVCgtODcuNiA0MS43KSkAAAAAALKpQAoxCBkQGSIiUE9JTlQoLTg3LjggNDEuOClQT0lOVCgtODcuNyA0MS45KSkAAAAAAHapQAotCBoQGiIeUE9JTlQoLTg3LjkgNDIpUE9JTlQoLTg3LjggNDIpKQAAAAAAgqdACjEIGxAbIiJQT0lOVCgtODcuNyA0MS45KVBPSU5UKC04Ny44IDQxLjkpKQAAAAAAnJ9ACi8IHBAcIiBQT0lOVCgtODcuNyA0MS45KVBPSU5UKC04Ny45IDQyKSkAAAAAAMyeQAoxCB0QHSIiUE9JTlQoLTg3LjYgNDEuOSlQT0lOVCgtODcuNiA0MS43KSkAAAAAABCdQAoxCB4QHiIiUE9JTlQoLTg3LjYgNDEuOSlQT0lOVCgtODcuNyA0MS44KSkAAAAAAGybQAotCB8QHyIeUE9JTlQoLTg3LjcgNDIpUE9JTlQoLTg3LjggNDIpKQAAAAAACJtACjEIIBAgIiJQT0lOVCgtODcuNyA0MS45KVBPSU5UKC04Ny42IDQxLjcpKQAAAAAAPJlACi8IIRAhIiBQT0lOVCgtODcuOSA0MilQT0lOVCgtODcuNiA0MS44KSkAAAAAADiZQAoxCCIQIiIiUE9JTlQoLTg3LjcgNDEuOSlQT0lOVCgtODcuNyA0MS44KSkAAAAAAGiYQAotCCMQIyIeUE9JTlQoLTg3LjggNDIpUE9JTlQoLTg3LjcgNDIpKQAAAAAASJhACi8IJBAkIiBQT0lOVCgtODcuNiA0MS45KVBPSU5UKC04Ny44IDQyKSkAAAAAAPCWQAoxCCUQJSIiUE9JTlQoLTg3LjYgNDEuOClQT0lOVCgtODcuNyA0MS44KSkAAAAAAJCWQAovCCYQJiIgUE9JTlQoLTg3LjcgNDEuOSlQT0lOVCgtODcuOCA0MikpAAAAAABolUAKLQgnECciHlBPSU5UKC04Ny43IDQyKVBPSU5UKC04Ny45IDQyKSkAAAAAAJyUQAoxCCgQKCIiUE9JTlQoLTg3LjcgNDEuOClQT0lOVCgtODcuNyA0MS44KSkAAAAAADyUQAoxCCkQKSIiUE9JTlQoLTg3LjYgNDEuNylQT0lOVCgtODcuNyA0MS45KSkAAAAAACSUQAoxCCoQKiIiUE9JTlQoLTg3LjYgNDEuNylQT0lOVCgtODcuNiA0MS45KSkAAAAAAEiTQAoxCCsQKyIiUE9JTlQoLTg3LjggNDEuOSlQT0lOVCgtODcuNyA0MS45KSkAAAAAADCTQAovCCwQLCIgUE9JTlQoLTg3LjggNDIpUE9JTlQoLTg3LjcgNDEuOSkpAAAAAAAQk0AKMQgtEC0iIlBPSU5UKC04Ny44IDQxLjgpUE9JTlQoLTg3LjYgNDEuOCkpAAAAAADIkkAKMQguEC4iIlBPSU5UKC04Ny42IDQxLjkpUE9JTlQoLTg3LjggNDEuOSkpAAAAAAAokkAKMQgvEC8iIlBPSU5UKC04Ny43IDQxLjgpUE9JTlQoLTg3LjYgNDEuOCkpAAAAAADckUAKMQgwEDAiIlBPSU5UKC04Ny42IDQxLjgpUE9JTlQoLTg3LjcgNDEuNykpAAAAAADkkEAKMQgxEDEiIlBPSU5UKC04Ny44IDQxLjgpUE9JTlQoLTg3LjggNDEuOCkpAAAAAACIkEAKMQgyEDIiIlBPSU5UKC04Ny43IDQxLjcpUE9JTlQoLTg3LjYgNDEuOCkpAAAAAABIj0AKMQgzEDMiIlBPSU5UKC04Ny44IDQxLjkpUE9JTlQoLTg3LjggNDEuOSkpAAAAAAAYjUAKLwg0EDQiIFBPSU5UKC04Ny43IDQyKVBPSU5UKC04Ny42IDQxLjgpKQAAAAAAuIpACjEINRA1IiJQT0lOVCgtODcuNyA0MS44KVBPSU5UKC04Ny43IDQxLjkpKQAAAAAAMIlACi8INhA2IiBQT0lOVCgtODcuOCA0MilQT0lOVCgtODcuNiA0MS45KSkAAAAAAGCHQAoxCDcQNyIiUE9JTlQoLTg3LjcgNDEuOClQT0lOVCgtODcuNiA0MS45KSkAAAAAAEiHQAoxCDgQOCIiUE9JTlQoLTg3LjcgNDEuNylQT0lOVCgtODcuNyA0MS43KSkAAAAAAACHQAovCDkQOSIgUE9JTlQoLTg3LjYgNDEuOClQT0lOVCgtODcuNyA0MikpAAAAAAAAh0AKMQg6EDoiIlBPSU5UKC04Ny42IDQxLjkpUE9JTlQoLTg3LjcgNDEuNykpAAAAAAAwhkAKMQg7EDsiIlBPSU5UKC04Ny43IDQxLjcpUE9JTlQoLTg3LjYgNDEuNykpAAAAAABohUAKMQg8EDwiIlBPSU5UKC04Ny42IDQxLjcpUE9JTlQoLTg3LjcgNDEuNykpAAAAAABIhUAKMQg9ED0iIlBPSU5UKC04Ny43IDQxLjkpUE9JTlQoLTg3LjggNDEuOCkpAAAAAABAhUAKLwg+ED4iIFBPSU5UKC04Ny43IDQyKVBPSU5UKC04Ny44IDQxLjkpKQAAAAAAuIRACi8IPxA/IiBQT0lOVCgtODcuOCA0MS44KVBPSU5UKC04Ny43IDQyKSkAAAAAAKiDQAovCEAQQCIgUE9JTlQoLTg3LjYgNDEuOSlQT0lOVCgtODcuNiA0MikpAAAAAACYg0AKLwhBEEEiIFBPSU5UKC04Ny45IDQyKVBPSU5UKC04Ny44IDQxLjkpKQAAAAAAQINACjEIQhBCIiJQT0lOVCgtODcuOCA0MS45KVBPSU5UKC04Ny42IDQxLjkpKQAAAAAAAINACjEIQxBDIiJQT0lOVCgtODcuNyA0MS45KVBPSU5UKC04Ny43IDQxLjcpKQAAAAAA+IJACjEIRBBEIiJQT0lOVCgtODcuNyA0MS44KVBPSU5UKC04Ny42IDQxLjcpKQAAAAAAAIJACjEIRRBFIiJQT0lOVCgtODcuNiA0MS43KVBPSU5UKC04Ny43IDQxLjgpKQAAAAAA6IFACi8IRhBGIiBQT0lOVCgtODcuOCA0MilQT0lOVCgtODcuOCA0MS45KSkAAAAAAKiBQAovCEcQRyIgUE9JTlQoLTg3LjYgNDEuOClQT0lOVCgtODcuOSA0MikpAAAAAACggUAKMQhIEEgiIlBPSU5UKC04Ny43IDQxLjcpUE9JTlQoLTg3LjcgNDEuOSkpAAAAAACIgUAKMQhJEEkiIlBPSU5UKC04Ny43IDQxLjcpUE9JTlQoLTg3LjYgNDEuOSkpAAAAAABQgEAKLQhKEEoiHlBPSU5UKC04Ny44IDQyKVBPSU5UKC04Ny45IDQyKSkAAAAAAIB/QAoxCEsQSyIiUE9JTlQoLTg3LjggNDEuOClQT0lOVCgtODcuNyA0MS44KSkAAAAAALB7QAoxCEwQTCIiUE9JTlQoLTg3LjYgNDEuOClQT0lOVCgtODcuOCA0MS44KSkAAAAAAGB6QAovCE0QTSIgUE9JTlQoLTg3LjYgNDIpUE9JTlQoLTg3LjYgNDEuOSkpAAAAAACgeUAKLwhOEE4iIFBPSU5UKC04Ny44IDQxLjkpUE9JTlQoLTg3LjcgNDIpKQAAAAAAEHhACi8ITxBPIiBQT0lOVCgtODcuOCA0MS45KVBPSU5UKC04Ny44IDQyKSkAAAAAAHB2QAoxCFAQUCIiUE9JTlQoLTg3LjggNDEuOClQT0lOVCgtODcuNyA0MS43KSkAAAAAADBzQAoxCFEQUSIiUE9JTlQoLTg3LjggNDEuOSlQT0lOVCgtODcuNiA0MS44KSkAAAAAALBxQAoxCFIQUiIiUE9JTlQoLTg3LjcgNDEuOClQT0lOVCgtODcuNyA0MS43KSkAAAAAAIBxQAoxCFMQUyIiUE9JTlQoLTg3LjYgNDEuOClQT0lOVCgtODcuOCA0MS45KSkAAAAAAKBvQAovCFQQVCIgUE9JTlQoLTg3LjggNDEuOClQT0lOVCgtODcuOSA0MikpAAAAAACAb0AKLwhVEFUiIFBPSU5UKC04Ny45IDQyKVBPSU5UKC04Ny44IDQxLjgpKQAAAAAAQG9ACjEIVhBWIiJQT0lOVCgtODcuNyA0MS43KVBPSU5UKC04Ny43IDQxLjgpKQAAAAAAQG9ACi8IVxBXIiBQT0lOVCgtODcuNyA0MilQT0lOVCgtODcuOCA0MS44KSkAAAAAAEBoQAovCFgQWCIgUE9JTlQoLTg3LjYgNDEuNylQT0lOVCgtODcuNyA0MikpAAAAAAAgaEAKLwhZEFkiIFBPSU5UKC04Ny43IDQyKVBPSU5UKC04Ny42IDQxLjcpKQAAAAAAwGVACi8IWhBaIiBQT0lOVCgtODcuOSA0MilQT0lOVCgtODcuNyA0MS44KSkAAAAAAEBlQAovCFsQWyIgUE9JTlQoLTg3LjcgNDIpUE9JTlQoLTg3LjcgNDEuOCkpAAAAAADgZEAKMQhcEFwiIlBPSU5UKC04Ny41IDQxLjcpUE9JTlQoLTg3LjYgNDEuOCkpAAAAAACgZEAKLwhdEF0iIFBPSU5UKC04Ny43IDQxLjgpUE9JTlQoLTg3LjcgNDIpKQAAAAAAgGBACjEIXhBeIiJQT0lOVCgtODcuNSA0MS43KVBPSU5UKC04Ny42IDQxLjcpKQAAAAAAwF5ACjEIXxBfIiJQT0lOVCgtODcuOCA0MS44KVBPSU5UKC04Ny42IDQxLjcpKQAAAAAAQF5ACjEIYBBgIiJQT0lOVCgtODcuNyA0MS44KVBPSU5UKC04Ny44IDQxLjgpKQAAAAAAwFxACi8IYRBhIiBQT0lOVCgtODcuNiA0MS44KVBPSU5UKC04Ny44IDQyKSkAAAAAAEBZQAotCGIQYiIeUE9JTlQoLTg3LjkgNDIpUE9JTlQoLTg3LjYgNDIpKQAAAAAAwFdACi8IYxBjIiBQT0lOVCgtODcuOSA0MilQT0lOVCgtODcuNyA0MS43KSkAAAAAAIBXQAoxCGQQZCIiUE9JTlQoLTg3LjggNDEuOSlQT0lOVCgtODcuNyA0MS44KSkAAAAAAEBXQAoxCGUQZSIiUE9JTlQoLTg3LjYgNDEuOClQT0lOVCgtODcuNSA0MS43KSkAAAAAAABXQAovCGYQZiIgUE9JTlQoLTg3LjggNDEuOSlQT0lOVCgtODcuOSA0MikpAAAAAAAAVkAKMQhnEGciIlBPSU5UKC04Ny42IDQxLjcpUE9JTlQoLTg3LjUgNDEuNykpAAAAAABAVUAKMQhoEGgiIlBPSU5UKC04Ny42IDQxLjcpUE9JTlQoLTg3LjggNDEuOSkpAAAAAADAVEAKLwhpEGkiIFBPSU5UKC04Ny45IDQyKVBPSU5UKC04Ny42IDQxLjcpKQAAAAAAAFNACi8IahBqIiBQT0lOVCgtODcuOCA0MS44KVBPSU5UKC04Ny44IDQyKSkAAAAAAABTQAoxCGsQayIiUE9JTlQoLTg3LjggNDEuOSlQT0lOVCgtODcuNiA0MS43KSkAAAAAAIBSQAoxCGwQbCIiUE9JTlQoLTg3LjcgNDEuOClQT0lOVCgtODcuOCA0MS45KSkAAAAAAMBRQAovCG0QbSIgUE9JTlQoLTg3LjggNDIpUE9JTlQoLTg3LjYgNDEuOCkpAAAAAACAUEAKMQhuEG4iIlBPSU5UKC04Ny44IDQxLjgpUE9JTlQoLTg3LjggNDEuOSkpAAAAAACAUEAKMQhvEG8iIlBPSU5UKC04Ny42IDQxLjkpUE9JTlQoLTg3LjUgNDEuNykpAAAAAACATEAKLwhwEHAiIFBPSU5UKC04Ny43IDQxLjcpUE9JTlQoLTg3LjcgNDIpKQAAAAAAAEtACjEIcRBxIiJQT0lOVCgtODcuNSA0MS43KVBPSU5UKC04Ny43IDQxLjkpKQAAAAAAAEtACi8IchByIiBQT0lOVCgtODcuNyA0MilQT0lOVCgtODcuNyA0MS43KSkAAAAAAABHQAoxCHMQcyIiUE9JTlQoLTg3LjcgNDEuOSlQT0lOVCgtODcuNSA0MS43KSkAAAAAAABEQAovCHQQdCIgUE9JTlQoLTg3LjYgNDEuNylQT0lOVCgtODcuOSA0MikpAAAAAAAAQkAKMQh1EHUiIlBPSU5UKC04Ny42IDQxLjcpUE9JTlQoLTg3LjggNDEuOCkpAAAAAAAAQkAKMQh2EHYiIlBPSU5UKC04Ny41IDQxLjcpUE9JTlQoLTg3LjYgNDEuOSkpAAAAAAAAQkAKMQh3EHciIlBPSU5UKC04Ny43IDQxLjcpUE9JTlQoLTg3LjggNDEuOCkpAAAAAAAAQUAKMQh4EHgiIlBPSU5UKC04Ny41IDQxLjcpUE9JTlQoLTg3LjUgNDEuNykpAAAAAAAAP0AKLwh5EHkiIFBPSU5UKC04Ny43IDQxLjcpUE9JTlQoLTg3LjkgNDIpKQAAAAAAAD5ACi0IehB6Ih5QT0lOVCgtODcuNiA0MilQT0lOVCgtODcuNiA0MikpAAAAAAAAPkAKLwh7EHsiIFBPSU5UKC04Ny43IDQxLjgpUE9JTlQoLTg3LjkgNDIpKQAAAAAAADhACi8IfBB8IiBQT0lOVCgtODcuOCA0MilQT0lOVCgtODcuNyA0MS44KSkAAAAAAAA3QAoxCH0QfSIiUE9JTlQoLTg3LjcgNDEuNylQT0lOVCgtODcuOCA0MS45KSkAAAAAAAA3QAoxCH4QfiIiUE9JTlQoLTg3LjggNDEuOSlQT0lOVCgtODcuOCA0MS44KSkAAAAAAAA2QAovCH8QfyIgUE9JTlQoLTg3LjggNDEuOClQT0lOVCgtODcuNiA0MikpAAAAAAAANkAKMQiAARCAASIgUE9JTlQoLTg3LjcgNDEuOSlQT0lOVCgtODcuNiA0MikpAAAAAAAANkAKLwiBARCBASIeUE9JTlQoLTg3LjcgNDIpUE9JTlQoLTg3LjYgNDIpKQAAAAAAADVACjEIggEQggEiIFBPSU5UKC04Ny43IDQxLjgpUE9JTlQoLTg3LjggNDIpKQAAAAAAADVACjEIgwEQgwEiIFBPSU5UKC04Ny42IDQyKVBPSU5UKC04Ny43IDQxLjkpKQAAAAAAADVACjMIhAEQhAEiIlBPSU5UKC04Ny44IDQxLjkpUE9JTlQoLTg3LjcgNDEuNykpAAAAAAAAM0AKLwiFARCFASIeUE9JTlQoLTg3LjYgNDIpUE9JTlQoLTg3LjkgNDIpKQAAAAAAADBACi8IhgEQhgEiHlBPSU5UKC04Ny42IDQyKVBPSU5UKC04Ny43IDQyKSkAAAAAAAAuQAoxCIcBEIcBIiBQT0lOVCgtODcuNiA0MS43KVBPSU5UKC04Ny44IDQyKSkAAAAAAAAqQAoxCIgBEIgBIiBQT0lOVCgtODcuOCA0MilQT0lOVCgtODcuOCA0MS44KSkAAAAAAAAoQAoxCIkBEIkBIiBQT0lOVCgtODcuOCA0MilQT0lOVCgtODcuNiA0MS43KSkAAAAAAAAoQAozCIoBEIoBIiJQT0lOVCgtODcuNSA0MS43KVBPSU5UKC04Ny43IDQxLjcpKQAAAAAAAChACjEIiwEQiwEiIFBPSU5UKC04Ny45IDQyKVBPSU5UKC04Ny41IDQxLjcpKQAAAAAAACRACjMIjAEQjAEiIlBPSU5UKC04Ny41IDQxLjcpUE9JTlQoLTg3LjcgNDEuOCkpAAAAAAAAJEAKMwiNARCNASIiUE9JTlQoLTg3LjggNDEuOClQT0lOVCgtODcuNSA0MS43KSkAAAAAAAAiQAozCI4BEI4BIiJQT0lOVCgtODcuNyA0MS43KVBPSU5UKC04Ny41IDQxLjcpKQAAAAAAACJACjEIjwEQjwEiIFBPSU5UKC04Ny44IDQyKVBPSU5UKC04Ny43IDQxLjcpKQAAAAAAABRACjMIkAEQkAEiIlBPSU5UKC04Ny43IDQxLjgpUE9JTlQoLTg3LjUgNDEuNykpAAAAAAAAFEAKMQiRARCRASIgUE9JTlQoLTg3LjUgNDEuNylQT0lOVCgtODcuOSA0MikpAAAAAAAAFEAKMQiSARCSASIgUE9JTlQoLTg3LjcgNDIpUE9JTlQoLTg3LjUgNDEuNykpAAAAAAAACEAKMQiTARCTASIgUE9JTlQoLTg3LjcgNDEuNylQT0lOVCgtODcuOCA0MikpAAAAAAAACEAKMQiUARCUASIgUE9JTlQoLTg3LjYgNDIpUE9JTlQoLTg3LjggNDEuOCkpAAAAAAAACEAKMQiVARCVASIgUE9JTlQoLTg3LjUgNDEuNylQT0lOVCgtODcuNyA0MikpAAAAAAAACEAKMwiWARCWASIiUE9JTlQoLTg3LjUgNDEuNylQT0lOVCgtODcuOCA0MS44KSkAAAAAAAAAQAovCJcBEJcBIh5QT0lOVCgtODcuOCA0MilQT0lOVCgtODcuNiA0MikpAAAAAAAA8D9CCwoJbG9jX2Nyb3NzGrYGGqgGCrgCCMCEPRgBIAEtAACAPzKkAhobCQAAAAAAAPA/EQAAAAAAAPA/IQAAAAAAavhAGhsJAAAAAAAA8D8RAAAAAAAA8D8hAAAAAABq+EAaGwkAAAAAAADwPxEAAAAAAADwPyEAAAAAAGr4QBobCQAAAAAAAPA/EQAAAAAAAPA/IQAAAAAAavhAGhsJAAAAAAAA8D8RAAAAAAAA8D8hAAAAAABq+EAaGwkAAAAAAADwPxEAAAAAAADwPyEAAAAAAGr4QBobCQAAAAAAAPA/EQAAAAAAAPA/IQAAAAAAavhAGhsJAAAAAAAA8D8RAAAAAAAA8D8hAAAAAABq+EAaGwkAAAAAAADwPxEAAAAAAADwPyEAAAAAAGr4QBobCQAAAAAAAPA/EQAAAAAAAPA/IQAAAAAAavhAIAFAwIQ9EXJRLSKKydY/GUEHsdgopd4/IO2mJzkAAAAAAADwP0KZAhoSEZqZmZmZmbk/IQAAAAA4oCNBGhsJmpmZmZmZuT8RmpmZmZmZyT8hAAAAAAAAWUAaGwmamZmZmZnJPxE0MzMzMzPTPyECAAAAAABZQBobCTQzMzMzM9M/EZqZmZmZmdk/If7//////1hAGhsJmpmZmZmZ2T8RAAAAAAAA4D8h/v//////WEAaGwkAAAAAAADgPxE0MzMzMzPjPyEGAAAAAABZQBobCTQzMzMzM+M/EWdmZmZmZuY/If7//////1hAGhsJZ2ZmZmZm5j8RmpmZmZmZ6T8h/v//////WEAaGwmamZmZmZnpPxHNzMzMzMzsPyH+//////9YQBobCc3MzMzMzOw/EQAAAAAAAPA/IQAAAAAQvBVBQq8BGgkhAAAAAABq+EAaCSEAAAAAAGr4QBoJIQAAAAAAavhAGgkhAAAAAABq+EAaCSEAAAAAAGr4QBoJIQAAAAAAavhAGhIRAAAAAAAA8D8hAAAAAABq+EAaGwkAAAAAAADwPxEAAAAAAADwPyEAAAAAAGr4QBobCQAAAAAAAPA/EQAAAAAAAPA/IQAAAAAAavhAGhsJAAAAAAAA8D8RAAAAAAAA8D8hAAAAAABq+EAgAUIJCgd0aXBfYmlu\"></facets-overview>';\n",
       "        facets_iframe.srcdoc = facets_html;\n",
       "         facets_iframe.id = \"\";\n",
       "         setTimeout(() => {\n",
       "           facets_iframe.setAttribute('height', facets_iframe.contentWindow.document.body.offsetHeight + 'px')\n",
       "         }, 1500)\n",
       "         </script>"
      ],
      "text/plain": [
       "<IPython.core.display.HTML object>"
      ]
     },
     "metadata": {},
     "output_type": "display_data"
    }
   ],
   "source": [
    "tfdv.visualize_statistics(stats)"
   ]
  },
  {
   "cell_type": "code",
   "execution_count": 20,
   "id": "d251e09b",
   "metadata": {},
   "outputs": [
    {
     "data": {
      "text/html": [
       "<div>\n",
       "<style scoped>\n",
       "    .dataframe tbody tr th:only-of-type {\n",
       "        vertical-align: middle;\n",
       "    }\n",
       "\n",
       "    .dataframe tbody tr th {\n",
       "        vertical-align: top;\n",
       "    }\n",
       "\n",
       "    .dataframe thead th {\n",
       "        text-align: right;\n",
       "    }\n",
       "</style>\n",
       "<table border=\"1\" class=\"dataframe\">\n",
       "  <thead>\n",
       "    <tr style=\"text-align: right;\">\n",
       "      <th></th>\n",
       "      <th>Type</th>\n",
       "      <th>Presence</th>\n",
       "      <th>Valency</th>\n",
       "      <th>Domain</th>\n",
       "    </tr>\n",
       "    <tr>\n",
       "      <th>Feature name</th>\n",
       "      <th></th>\n",
       "      <th></th>\n",
       "      <th></th>\n",
       "      <th></th>\n",
       "    </tr>\n",
       "  </thead>\n",
       "  <tbody>\n",
       "    <tr>\n",
       "      <th>'trip_month'</th>\n",
       "      <td>INT</td>\n",
       "      <td>required</td>\n",
       "      <td></td>\n",
       "      <td>-</td>\n",
       "    </tr>\n",
       "    <tr>\n",
       "      <th>'trip_day'</th>\n",
       "      <td>INT</td>\n",
       "      <td>required</td>\n",
       "      <td></td>\n",
       "      <td>-</td>\n",
       "    </tr>\n",
       "    <tr>\n",
       "      <th>'trip_day_of_week'</th>\n",
       "      <td>INT</td>\n",
       "      <td>required</td>\n",
       "      <td></td>\n",
       "      <td>-</td>\n",
       "    </tr>\n",
       "    <tr>\n",
       "      <th>'trip_hour'</th>\n",
       "      <td>INT</td>\n",
       "      <td>required</td>\n",
       "      <td></td>\n",
       "      <td>-</td>\n",
       "    </tr>\n",
       "    <tr>\n",
       "      <th>'trip_seconds'</th>\n",
       "      <td>INT</td>\n",
       "      <td>required</td>\n",
       "      <td></td>\n",
       "      <td>-</td>\n",
       "    </tr>\n",
       "    <tr>\n",
       "      <th>'trip_miles'</th>\n",
       "      <td>FLOAT</td>\n",
       "      <td>required</td>\n",
       "      <td></td>\n",
       "      <td>-</td>\n",
       "    </tr>\n",
       "    <tr>\n",
       "      <th>'payment_type'</th>\n",
       "      <td>STRING</td>\n",
       "      <td>required</td>\n",
       "      <td></td>\n",
       "      <td>'payment_type'</td>\n",
       "    </tr>\n",
       "    <tr>\n",
       "      <th>'pickup_grid'</th>\n",
       "      <td>STRING</td>\n",
       "      <td>required</td>\n",
       "      <td></td>\n",
       "      <td>'pickup_grid'</td>\n",
       "    </tr>\n",
       "    <tr>\n",
       "      <th>'dropoff_grid'</th>\n",
       "      <td>STRING</td>\n",
       "      <td>required</td>\n",
       "      <td></td>\n",
       "      <td>'dropoff_grid'</td>\n",
       "    </tr>\n",
       "    <tr>\n",
       "      <th>'euclidean'</th>\n",
       "      <td>FLOAT</td>\n",
       "      <td>required</td>\n",
       "      <td></td>\n",
       "      <td>-</td>\n",
       "    </tr>\n",
       "    <tr>\n",
       "      <th>'loc_cross'</th>\n",
       "      <td>BYTES</td>\n",
       "      <td>required</td>\n",
       "      <td></td>\n",
       "      <td>-</td>\n",
       "    </tr>\n",
       "    <tr>\n",
       "      <th>'tip_bin'</th>\n",
       "      <td>INT</td>\n",
       "      <td>required</td>\n",
       "      <td></td>\n",
       "      <td>-</td>\n",
       "    </tr>\n",
       "  </tbody>\n",
       "</table>\n",
       "</div>"
      ],
      "text/plain": [
       "                      Type  Presence Valency          Domain\n",
       "Feature name                                                \n",
       "'trip_month'           INT  required                       -\n",
       "'trip_day'             INT  required                       -\n",
       "'trip_day_of_week'     INT  required                       -\n",
       "'trip_hour'            INT  required                       -\n",
       "'trip_seconds'         INT  required                       -\n",
       "'trip_miles'         FLOAT  required                       -\n",
       "'payment_type'      STRING  required          'payment_type'\n",
       "'pickup_grid'       STRING  required           'pickup_grid'\n",
       "'dropoff_grid'      STRING  required          'dropoff_grid'\n",
       "'euclidean'          FLOAT  required                       -\n",
       "'loc_cross'          BYTES  required                       -\n",
       "'tip_bin'              INT  required                       -"
      ]
     },
     "metadata": {},
     "output_type": "display_data"
    },
    {
     "data": {
      "text/html": [
       "<div>\n",
       "<style scoped>\n",
       "    .dataframe tbody tr th:only-of-type {\n",
       "        vertical-align: middle;\n",
       "    }\n",
       "\n",
       "    .dataframe tbody tr th {\n",
       "        vertical-align: top;\n",
       "    }\n",
       "\n",
       "    .dataframe thead th {\n",
       "        text-align: right;\n",
       "    }\n",
       "</style>\n",
       "<table border=\"1\" class=\"dataframe\">\n",
       "  <thead>\n",
       "    <tr style=\"text-align: right;\">\n",
       "      <th></th>\n",
       "      <th>Values</th>\n",
       "    </tr>\n",
       "    <tr>\n",
       "      <th>Domain</th>\n",
       "      <th></th>\n",
       "    </tr>\n",
       "  </thead>\n",
       "  <tbody>\n",
       "    <tr>\n",
       "      <th>'payment_type'</th>\n",
       "      <td>'Cash', 'Credit Card', 'Dispute', 'Mobile', 'No Charge', 'Prcard', 'Prepaid', 'Unknown'</td>\n",
       "    </tr>\n",
       "    <tr>\n",
       "      <th>'pickup_grid'</th>\n",
       "      <td>'POINT(-87.5 41.7)', 'POINT(-87.6 41.7)', 'POINT(-87.6 41.8)', 'POINT(-87.6 41.9)', 'POINT(-87.6 42)', 'POINT(-87.7 41.7)', 'POINT(-87.7 41.8)', 'POINT(-87.7 41.9)', 'POINT(-87.7 42)', 'POINT(-87.8 41.8)', 'POINT(-87.8 41.9)', 'POINT(-87.8 42)', 'POINT(-87.9 42)'</td>\n",
       "    </tr>\n",
       "    <tr>\n",
       "      <th>'dropoff_grid'</th>\n",
       "      <td>'POINT(-87.5 41.7)', 'POINT(-87.6 41.7)', 'POINT(-87.6 41.8)', 'POINT(-87.6 41.9)', 'POINT(-87.6 42)', 'POINT(-87.7 41.7)', 'POINT(-87.7 41.8)', 'POINT(-87.7 41.9)', 'POINT(-87.7 42)', 'POINT(-87.8 41.8)', 'POINT(-87.8 41.9)', 'POINT(-87.8 42)', 'POINT(-87.9 42)'</td>\n",
       "    </tr>\n",
       "  </tbody>\n",
       "</table>\n",
       "</div>"
      ],
      "text/plain": [
       "                                                                                                                                                                                                                                                                                 Values\n",
       "Domain                                                                                                                                                                                                                                                                                 \n",
       "'payment_type'                                                                                                                                                                                  'Cash', 'Credit Card', 'Dispute', 'Mobile', 'No Charge', 'Prcard', 'Prepaid', 'Unknown'\n",
       "'pickup_grid'   'POINT(-87.5 41.7)', 'POINT(-87.6 41.7)', 'POINT(-87.6 41.8)', 'POINT(-87.6 41.9)', 'POINT(-87.6 42)', 'POINT(-87.7 41.7)', 'POINT(-87.7 41.8)', 'POINT(-87.7 41.9)', 'POINT(-87.7 42)', 'POINT(-87.8 41.8)', 'POINT(-87.8 41.9)', 'POINT(-87.8 42)', 'POINT(-87.9 42)'\n",
       "'dropoff_grid'  'POINT(-87.5 41.7)', 'POINT(-87.6 41.7)', 'POINT(-87.6 41.8)', 'POINT(-87.6 41.9)', 'POINT(-87.6 42)', 'POINT(-87.7 41.7)', 'POINT(-87.7 41.8)', 'POINT(-87.7 41.9)', 'POINT(-87.7 42)', 'POINT(-87.8 41.8)', 'POINT(-87.8 41.9)', 'POINT(-87.8 42)', 'POINT(-87.9 42)'"
      ]
     },
     "metadata": {},
     "output_type": "display_data"
    }
   ],
   "source": [
    "schema = tfdv.infer_schema(statistics=stats)\n",
    "tfdv.display_schema(schema=schema)"
   ]
  },
  {
   "cell_type": "code",
   "execution_count": 21,
   "id": "502c49f1",
   "metadata": {},
   "outputs": [],
   "source": [
    "raw_schema_location = os.path.join(RAW_SCHEMA_DIR, 'schema.pbtxt')\n",
    "tfdv.write_schema_text(schema, raw_schema_location)"
   ]
  },
  {
   "cell_type": "markdown",
   "id": "59df0723",
   "metadata": {},
   "source": [
    "## 4. Create Vertex Dataset resource"
   ]
  },
  {
   "cell_type": "code",
   "execution_count": 22,
   "id": "90d9b605",
   "metadata": {},
   "outputs": [],
   "source": [
    "vertex_ai.init(\n",
    "    project=PROJECT,\n",
    "    location=REGION\n",
    ")"
   ]
  },
  {
   "cell_type": "markdown",
   "id": "464ab920",
   "metadata": {},
   "source": [
    "### Create the dataset resource"
   ]
  },
  {
   "cell_type": "code",
   "execution_count": 23,
   "id": "a0a1707a",
   "metadata": {},
   "outputs": [
    {
     "name": "stdout",
     "output_type": "stream",
     "text": [
      "Creating TabularDataset\n",
      "Create TabularDataset backing LRO: projects/956259099845/locations/us-west1/datasets/2333638663163871232/operations/294895615639289856\n",
      "TabularDataset created. Resource name: projects/956259099845/locations/us-west1/datasets/2333638663163871232\n",
      "To use this TabularDataset in another session:\n",
      "ds = aiplatform.TabularDataset('projects/956259099845/locations/us-west1/datasets/2333638663163871232')\n"
     ]
    },
    {
     "data": {
      "text/plain": [
       "name: \"projects/956259099845/locations/us-west1/datasets/2333638663163871232\"\n",
       "display_name: \"chicago-taxi-tips\"\n",
       "metadata_schema_uri: \"gs://google-cloud-aiplatform/schema/dataset/metadata/tabular_1.0.0.yaml\"\n",
       "create_time {\n",
       "  seconds: 1684368084\n",
       "  nanos: 971984000\n",
       "}\n",
       "update_time {\n",
       "  seconds: 1684368086\n",
       "  nanos: 51986000\n",
       "}\n",
       "etag: \"AMEw9yPIvOCY3gQMrmXU5ZDUwZF83r7xlBMWIx1IJ3jAVcxmN74FchPEZN06JYqjSvY=\"\n",
       "metadata {\n",
       "  struct_value {\n",
       "    fields {\n",
       "      key: \"inputConfig\"\n",
       "      value {\n",
       "        struct_value {\n",
       "          fields {\n",
       "            key: \"bigquerySource\"\n",
       "            value {\n",
       "              struct_value {\n",
       "                fields {\n",
       "                  key: \"uri\"\n",
       "                  value {\n",
       "                    string_value: \"bq://g360-docai.playground_us.chicago_taxitrips_prep\"\n",
       "                  }\n",
       "                }\n",
       "              }\n",
       "            }\n",
       "          }\n",
       "        }\n",
       "      }\n",
       "    }\n",
       "  }\n",
       "}\n",
       "metadata_artifact: \"projects/956259099845/locations/us-west1/metadataStores/default/artifacts/05c5569c-cc31-4713-af09-22f64190370b\""
      ]
     },
     "execution_count": 23,
     "metadata": {},
     "output_type": "execute_result"
    }
   ],
   "source": [
    "bq_uri = f\"bq://{PROJECT}.{BQ_DATASET_NAME}.{BQ_TABLE_NAME}\"\n",
    "\n",
    "dataset = vertex_ai.TabularDataset.create(\n",
    "    display_name=DATASET_DISPLAY_NAME, bq_source=bq_uri)\n",
    "\n",
    "dataset.gca_resource"
   ]
  },
  {
   "cell_type": "markdown",
   "id": "c761fadb",
   "metadata": {},
   "source": [
    "### Get the dataset resource\n",
    "\n",
    "The dataset resource is retrieved by display name. Because multiple datasets can have the same display name, we retrieve the most recent updated one."
   ]
  },
  {
   "cell_type": "code",
   "execution_count": 24,
   "id": "d78b7f4d",
   "metadata": {},
   "outputs": [
    {
     "name": "stdout",
     "output_type": "stream",
     "text": [
      "Dataset resource name: projects/956259099845/locations/us-west1/datasets/2333638663163871232\n",
      "Dataset BigQuery source: bq://g360-docai.playground_us.chicago_taxitrips_prep\n"
     ]
    }
   ],
   "source": [
    "dataset = vertex_ai.TabularDataset.list(\n",
    "    filter=f\"display_name={DATASET_DISPLAY_NAME}\", \n",
    "    order_by=\"update_time\")[-1]\n",
    "\n",
    "print(\"Dataset resource name:\", dataset.resource_name)\n",
    "print(\"Dataset BigQuery source:\", dataset.gca_resource.metadata['inputConfig']['bigquerySource']['uri'])"
   ]
  },
  {
   "cell_type": "code",
   "execution_count": null,
   "id": "569249de",
   "metadata": {},
   "outputs": [],
   "source": []
  }
 ],
 "metadata": {
  "environment": {
   "kernel": "python3",
   "name": "tf2-gpu.2-11.m108",
   "type": "gcloud",
   "uri": "gcr.io/deeplearning-platform-release/tf2-gpu.2-11:m108"
  },
  "kernelspec": {
   "display_name": "Python 3 (ipykernel)",
   "language": "python",
   "name": "python3"
  },
  "language_info": {
   "codemirror_mode": {
    "name": "ipython",
    "version": 3
   },
   "file_extension": ".py",
   "mimetype": "text/x-python",
   "name": "python",
   "nbconvert_exporter": "python",
   "pygments_lexer": "ipython3",
   "version": "3.7.12"
  }
 },
 "nbformat": 4,
 "nbformat_minor": 5
}
